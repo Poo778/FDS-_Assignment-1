{
  "nbformat": 4,
  "nbformat_minor": 0,
  "metadata": {
    "colab": {
      "name": "Sampling Data.ipynb",
      "provenance": [],
      "collapsed_sections": []
    },
    "kernelspec": {
      "name": "python3",
      "display_name": "Python 3"
    },
    "language_info": {
      "name": "python"
    }
  },
  "cells": [
    {
      "cell_type": "code",
      "metadata": {
        "id": "5IRsrLgGzml9"
      },
      "source": [
        "import pandas as pd\n",
        "import numpy as np\n",
        "import scipy.stats as stats\n",
        "from scipy.stats import binom\n",
        "import seaborn as sns\n",
        "import pylab\n",
        "\n",
        "import matplotlib.pyplot as plt\n",
        "%matplotlib inline"
      ],
      "execution_count": null,
      "outputs": []
    },
    {
      "cell_type": "code",
      "metadata": {
        "id": "vQMJ_KcJ1RPV"
      },
      "source": [
        "loans_income = pd.read_csv('/content/sample_data/loans_income.csv')\n",
        "sp500_px = pd.read_csv('/content/sample_data/sp500_px.csv')"
      ],
      "execution_count": null,
      "outputs": []
    },
    {
      "cell_type": "code",
      "metadata": {
        "colab": {
          "base_uri": "https://localhost:8080/"
        },
        "id": "x7s_zH_D2BnB",
        "outputId": "5d5557f5-1715-4d23-a778-634ad7d7d649"
      },
      "source": [
        "#Calculating a rolling mean:\n",
        "\n",
        "#Take a 1000 Samples\n",
        "samples = loans_income.sample(n=1000)\n",
        "samples.shape"
      ],
      "execution_count": null,
      "outputs": [
        {
          "output_type": "execute_result",
          "data": {
            "text/plain": [
              "(1000, 1)"
            ]
          },
          "metadata": {},
          "execution_count": 5
        }
      ]
    },
    {
      "cell_type": "code",
      "metadata": {
        "colab": {
          "base_uri": "https://localhost:8080/"
        },
        "id": "WTKciwWw1iSA",
        "outputId": "597feaed-b996-483a-f6b0-4948648e855f"
      },
      "source": [
        "samples.head   #Observe Record"
      ],
      "execution_count": null,
      "outputs": [
        {
          "output_type": "execute_result",
          "data": {
            "text/plain": [
              "<bound method NDFrame.head of             x\n",
              "38606   70000\n",
              "20320   26000\n",
              "34593   50000\n",
              "24053   45000\n",
              "18172  140000\n",
              "...       ...\n",
              "10414   36163\n",
              "5623    75000\n",
              "11492  130000\n",
              "47106  137761\n",
              "45549   65000\n",
              "\n",
              "[1000 rows x 1 columns]>"
            ]
          },
          "metadata": {},
          "execution_count": 6
        }
      ]
    },
    {
      "cell_type": "code",
      "metadata": {
        "colab": {
          "base_uri": "https://localhost:8080/"
        },
        "id": "hlHQ_sYh2aO0",
        "outputId": "c7dc37fa-83ed-4fdf-8aed-068421b7a23c"
      },
      "source": [
        "samples.tail"
      ],
      "execution_count": null,
      "outputs": [
        {
          "output_type": "execute_result",
          "data": {
            "text/plain": [
              "<bound method NDFrame.tail of             x\n",
              "38606   70000\n",
              "20320   26000\n",
              "34593   50000\n",
              "24053   45000\n",
              "18172  140000\n",
              "...       ...\n",
              "10414   36163\n",
              "5623    75000\n",
              "11492  130000\n",
              "47106  137761\n",
              "45549   65000\n",
              "\n",
              "[1000 rows x 1 columns]>"
            ]
          },
          "metadata": {},
          "execution_count": 7
        }
      ]
    },
    {
      "cell_type": "code",
      "metadata": {
        "colab": {
          "base_uri": "https://localhost:8080/"
        },
        "id": "gTnbNOCG2jMC",
        "outputId": "7a98bab0-f520-4541-e79c-dfde13cae3f6"
      },
      "source": [
        "#mean of 5 numbers\n",
        "sample_mean_5 = samples.rolling(5).mean().x\n",
        "sample_mean_5"
      ],
      "execution_count": null,
      "outputs": [
        {
          "output_type": "execute_result",
          "data": {
            "text/plain": [
              "38606        NaN\n",
              "20320        NaN\n",
              "34593        NaN\n",
              "24053        NaN\n",
              "18172    66200.0\n",
              "          ...   \n",
              "10414    54355.8\n",
              "5623     59855.8\n",
              "11492    80232.6\n",
              "47106    98784.8\n",
              "45549    88784.8\n",
              "Name: x, Length: 1000, dtype: float64"
            ]
          },
          "metadata": {},
          "execution_count": 10
        }
      ]
    },
    {
      "cell_type": "code",
      "metadata": {
        "colab": {
          "base_uri": "https://localhost:8080/"
        },
        "id": "IRGG92jA22hm",
        "outputId": "b5a1e1ab-84cc-4a04-e5af-f0af146b28e0"
      },
      "source": [
        "sample_mean_5.shape"
      ],
      "execution_count": null,
      "outputs": [
        {
          "output_type": "execute_result",
          "data": {
            "text/plain": [
              "(1000,)"
            ]
          },
          "metadata": {},
          "execution_count": 11
        }
      ]
    },
    {
      "cell_type": "code",
      "metadata": {
        "colab": {
          "base_uri": "https://localhost:8080/"
        },
        "id": "4liQSBJ53OAD",
        "outputId": "3adebb7b-7b49-409d-b148-5bae9660dc5b"
      },
      "source": [
        "sample_mean_5 = sample_mean_5.dropna()   #drop Null values\n",
        "sample_mean_5"
      ],
      "execution_count": null,
      "outputs": [
        {
          "output_type": "execute_result",
          "data": {
            "text/plain": [
              "18172    66200.0\n",
              "3894     69000.0\n",
              "5872     74800.0\n",
              "2143     81600.0\n",
              "29494    80600.0\n",
              "          ...   \n",
              "10414    54355.8\n",
              "5623     59855.8\n",
              "11492    80232.6\n",
              "47106    98784.8\n",
              "45549    88784.8\n",
              "Name: x, Length: 996, dtype: float64"
            ]
          },
          "metadata": {},
          "execution_count": 13
        }
      ]
    },
    {
      "cell_type": "code",
      "metadata": {
        "colab": {
          "base_uri": "https://localhost:8080/"
        },
        "id": "mzSxkvQI3teK",
        "outputId": "c26d5611-99aa-4b9c-be3a-a26d96b23913"
      },
      "source": [
        "sample_mean_5.shape"
      ],
      "execution_count": null,
      "outputs": [
        {
          "output_type": "execute_result",
          "data": {
            "text/plain": [
              "(996,)"
            ]
          },
          "metadata": {},
          "execution_count": 14
        }
      ]
    },
    {
      "cell_type": "code",
      "metadata": {
        "colab": {
          "base_uri": "https://localhost:8080/"
        },
        "id": "CIWJw5PY3yc7",
        "outputId": "da3c8644-90a7-401b-dfcf-262b588964ba"
      },
      "source": [
        "#mean of 20 numbers\n",
        "sample_mean_20 = samples.rolling(20).mean().x\n",
        "sample_mean_20 "
      ],
      "execution_count": null,
      "outputs": [
        {
          "output_type": "execute_result",
          "data": {
            "text/plain": [
              "38606         NaN\n",
              "20320         NaN\n",
              "34593         NaN\n",
              "24053         NaN\n",
              "18172         NaN\n",
              "           ...   \n",
              "10414    62315.95\n",
              "5623     59565.95\n",
              "11492    65140.95\n",
              "47106    67729.00\n",
              "45549    68699.00\n",
              "Name: x, Length: 1000, dtype: float64"
            ]
          },
          "metadata": {},
          "execution_count": 16
        }
      ]
    },
    {
      "cell_type": "code",
      "metadata": {
        "colab": {
          "base_uri": "https://localhost:8080/"
        },
        "id": "1lLSLSWf4JEd",
        "outputId": "17bc8c73-479d-459b-ef14-c17fcd240319"
      },
      "source": [
        "sample_mean_20.shape"
      ],
      "execution_count": null,
      "outputs": [
        {
          "output_type": "execute_result",
          "data": {
            "text/plain": [
              "(1000,)"
            ]
          },
          "metadata": {},
          "execution_count": 17
        }
      ]
    },
    {
      "cell_type": "code",
      "metadata": {
        "id": "02-HTvrS4FZa"
      },
      "source": [
        "sample_mean_20= sample_mean_20.dropna()"
      ],
      "execution_count": null,
      "outputs": []
    },
    {
      "cell_type": "code",
      "metadata": {
        "colab": {
          "base_uri": "https://localhost:8080/"
        },
        "id": "5NVO8gky4Tz_",
        "outputId": "1f27ab01-4258-40dc-a1b8-94d110f54370"
      },
      "source": [
        "sample_mean_20"
      ],
      "execution_count": null,
      "outputs": [
        {
          "output_type": "execute_result",
          "data": {
            "text/plain": [
              "17537    68293.90\n",
              "24296    68393.90\n",
              "6673     70093.90\n",
              "14166    70683.90\n",
              "16658    70783.90\n",
              "           ...   \n",
              "10414    62315.95\n",
              "5623     59565.95\n",
              "11492    65140.95\n",
              "47106    67729.00\n",
              "45549    68699.00\n",
              "Name: x, Length: 981, dtype: float64"
            ]
          },
          "metadata": {},
          "execution_count": 20
        }
      ]
    },
    {
      "cell_type": "code",
      "metadata": {
        "colab": {
          "base_uri": "https://localhost:8080/"
        },
        "id": "uQd4_87k4Y18",
        "outputId": "78c03d45-68af-4c95-be5c-ad4cb9dcfb42"
      },
      "source": [
        "# mean of 30 numbers\n",
        "sample_mean_30 = samples.rolling(30).mean().x\n",
        "sample_mean_30 = sample_mean_30.dropna()\n",
        "sample_mean_30.shape"
      ],
      "execution_count": null,
      "outputs": [
        {
          "output_type": "execute_result",
          "data": {
            "text/plain": [
              "(971,)"
            ]
          },
          "metadata": {},
          "execution_count": 22
        }
      ]
    },
    {
      "cell_type": "code",
      "metadata": {
        "colab": {
          "base_uri": "https://localhost:8080/",
          "height": 328
        },
        "id": "gz21bkfl5EZG",
        "outputId": "84a99d0f-b654-4990-c12f-cf4616c0faf2"
      },
      "source": [
        "fig = plt.figure(figsize=(10,10))  #figuresize it is width size\n",
        "#The full distribution of the plot:\n",
        "ax = fig.add_subplot(2,2,1)\n",
        "ax.hist(loans_income.x,bins=25)  #10000 elements hai kitnai bags mai bharna hai\n",
        "plt.title('Full Plot of the whole DATAFRAME')"
      ],
      "execution_count": null,
      "outputs": [
        {
          "output_type": "execute_result",
          "data": {
            "text/plain": [
              "Text(0.5, 1.0, 'Full Plot of the whole DATAFRAME')"
            ]
          },
          "metadata": {},
          "execution_count": 23
        },
        {
          "output_type": "display_data",
          "data": {
            "image/png": "[encoded data removed]",
            "text/plain": [
              "<Figure size 720x720 with 1 Axes>"
            ]
          },
          "metadata": {
            "needs_background": "light"
          }
        }
      ]
    },
    {
      "cell_type": "code",
      "metadata": {
        "colab": {
          "base_uri": "https://localhost:8080/",
          "height": 205
        },
        "id": "_TzzsKZp5RvS",
        "outputId": "229b587d-1584-49d4-e1d4-17a67325de83"
      },
      "source": [
        "fig = plt.figure(figsize=(5,5))  #figuresize it is width size (more data ->more size->easily you can see)\n",
        "#The full distribution of the plot:\n",
        "ax = fig.add_subplot(2,2,1)\n",
        "ax.hist(loans_income.x,bins=25)\n",
        "plt.title('Full Plot of the whole DATAFRAME')"
      ],
      "execution_count": null,
      "outputs": [
        {
          "output_type": "execute_result",
          "data": {
            "text/plain": [
              "Text(0.5, 1.0, 'Full Plot of the whole DATAFRAME')"
            ]
          },
          "metadata": {},
          "execution_count": 24
        },
        {
          "output_type": "display_data",
          "data": {
            "image/png": "[encoded data removed]",
            "text/plain": [
              "<Figure size 360x360 with 1 Axes>"
            ]
          },
          "metadata": {
            "needs_background": "light"
          }
        }
      ]
    },
    {
      "cell_type": "code",
      "metadata": {
        "colab": {
          "base_uri": "https://localhost:8080/",
          "height": 1000
        },
        "id": "Z4vYjuxu52E7",
        "outputId": "e679221e-071b-4715-c853-96530e4de3a0"
      },
      "source": [
        "fig = plt.figure(figsize=(50,50))  #figuresize it is width size\n",
        "#The full distribution of the plot:\n",
        "ax = fig.add_subplot(2,2,1)\n",
        "ax.hist(loans_income.x,bins=25)  #25 bins mai kitnai width cover kiya hai\n",
        "plt.title('Full Plot of the whole DATAFRAME')"
      ],
      "execution_count": null,
      "outputs": [
        {
          "output_type": "execute_result",
          "data": {
            "text/plain": [
              "Text(0.5, 1.0, 'Full Plot of the whole DATAFRAME')"
            ]
          },
          "metadata": {},
          "execution_count": 25
        },
        {
          "output_type": "display_data",
          "data": {
            "image/png": "[encoded data removed]",
            "text/plain": [
              "<Figure size 3600x3600 with 1 Axes>"
            ]
          },
          "metadata": {
            "needs_background": "light"
          }
        }
      ]
    },
    {
      "cell_type": "code",
      "metadata": {
        "colab": {
          "base_uri": "https://localhost:8080/",
          "height": 299
        },
        "id": "B6ummhHV6gBR",
        "outputId": "bc83cf06-796d-4a73-a382-39727162828a"
      },
      "source": [
        "#distribution of 1000 samples:\n",
        "\n",
        "ax = fig.add_subplot(2,2,2)\n",
        "ax.hist(samples.x,bins=40)\n",
        "plt.title('Full Plot of the 1000 samples')"
      ],
      "execution_count": null,
      "outputs": [
        {
          "output_type": "execute_result",
          "data": {
            "text/plain": [
              "Text(0.5, 1.0, 'Full Plot of the 1000 samples')"
            ]
          },
          "metadata": {},
          "execution_count": 26
        },
        {
          "output_type": "display_data",
          "data": {
            "image/png": "[encoded data removed]",
            "text/plain": [
              "<Figure size 432x288 with 1 Axes>"
            ]
          },
          "metadata": {
            "needs_background": "light"
          }
        }
      ]
    },
    {
      "cell_type": "code",
      "metadata": {
        "colab": {
          "base_uri": "https://localhost:8080/",
          "height": 328
        },
        "id": "d0ppk-Rg7b8g",
        "outputId": "b2509289-86f2-4416-a426-0bc17bf9fa75"
      },
      "source": [
        "fig = plt.figure(figsize=(10,10))\n",
        "#The full distribution of the plot:\n",
        "ax = fig.add_subplot(2,2,1)\n",
        "ax.hist(loans_income.x,bins=25)\n",
        "plt.title('Full Plot of the whole DATAFRAME')\n",
        "\n",
        "#distribution of 1000 samples:\n",
        "\n",
        "ax = fig.add_subplot(2,2,2)\n",
        "ax.hist(samples.x,bins=40)\n",
        "plt.title('Full Plot of the 1000 samples')"
      ],
      "execution_count": null,
      "outputs": [
        {
          "output_type": "execute_result",
          "data": {
            "text/plain": [
              "Text(0.5, 1.0, 'Full Plot of the 1000 samples')"
            ]
          },
          "metadata": {},
          "execution_count": 27
        },
        {
          "output_type": "display_data",
          "data": {
            "image/png": "[encoded data removed]",
            "text/plain": [
              "<Figure size 720x720 with 2 Axes>"
            ]
          },
          "metadata": {
            "needs_background": "light"
          }
        }
      ]
    },
    {
      "cell_type": "code",
      "metadata": {
        "colab": {
          "base_uri": "https://localhost:8080/",
          "height": 1000
        },
        "id": "HOmG_h9z8Hfe",
        "outputId": "877197a4-fd1d-48f9-94b5-c1a353f25911"
      },
      "source": [
        "#Calculating a rolling mean:\n",
        "\n",
        "#Take a 1000 Samples\n",
        "samples = loans_income.sample(n=1000)\n",
        "\n",
        "#mean of 5 numbers\n",
        "sample_mean_5 = samples.rolling(5).mean().x\n",
        "sample_mean_5 = sample_mean_5.dropna()\n",
        "\n",
        "#mean of 20 numbers\n",
        "sample_mean_20 = samples.rolling(20).mean().x\n",
        "sample_mean_20 = sample_mean_20.dropna()\n",
        "\n",
        "# mean of 30 numbers\n",
        "sample_mean_30 = samples.rolling(30).mean().x\n",
        "sample_mean_30 = sample_mean_30.dropna()\n",
        "\n",
        "fig = plt.figure(figsize=(10,10))\n",
        "#The full distribution of the plot:\n",
        "ax = fig.add_subplot(2,2,1)\n",
        "ax.hist(loans_income.x,bins=25)\n",
        "plt.title('Full Plot of the whole DATAFRAME')\n",
        "\n",
        "#distribution of 1000 samples:\n",
        "\n",
        "ax = fig.add_subplot(2,2,2)\n",
        "ax.hist(samples.x,bins=40)\n",
        "plt.title('Full Plot of the 1000 samples')\n",
        "\n",
        "#distribution of means of 5 numbers from 1000 samples:\n",
        "ax = fig.add_subplot(2,2,3)\n",
        "ax.hist(sample_mean_5,bins=40)\n",
        "plt.title('Plot of Rolling Mean 5 of the 1000 samples')\n",
        "\n",
        "#distribution of means of 20 numbers from 1000 samples:\n",
        "ax = fig.add_subplot(2,2,4)\n",
        "ax.hist(sample_mean_20,bins=40,label='Mean of 20')\n",
        "ax.hist(sample_mean_30,bins=40,label='Mean of 30')\n",
        "plt.title('Plot of Rolling Mean 20 and 30 of the 1000 samples')\n",
        "ax.legend()\n",
        "#Calculating a rolling mean:\n",
        "\n",
        "#Take a 1000 Samples\n",
        "samples = loans_income.sample(n=1000)\n",
        "\n",
        "#mean of 5 numbers\n",
        "sample_mean_5 = samples.rolling(5).mean().x\n",
        "sample_mean_5 = sample_mean_5.dropna()\n",
        "\n",
        "#mean of 20 numbers\n",
        "sample_mean_20 = samples.rolling(20).mean().x\n",
        "sample_mean_20 = sample_mean_20.dropna()\n",
        "\n",
        "# mean of 30 numbers\n",
        "sample_mean_30 = samples.rolling(30).mean().x\n",
        "sample_mean_30 = sample_mean_30.dropna()\n",
        "\n",
        "fig = plt.figure(figsize=(10,10))\n",
        "#The full distribution of the plot:\n",
        "ax = fig.add_subplot(2,2,1)\n",
        "ax.hist(loans_income.x,bins=25)\n",
        "plt.title('Full Plot of the whole DATAFRAME')\n",
        "\n",
        "#distribution of 1000 samples:\n",
        "\n",
        "ax = fig.add_subplot(2,2,2)\n",
        "ax.hist(samples.x,bins=40)\n",
        "plt.title('Full Plot of the 1000 samples')\n",
        "\n",
        "#distribution of means of 5 numbers from 1000 samples:\n",
        "ax = fig.add_subplot(2,2,3)\n",
        "ax.hist(sample_mean_5,bins=40)\n",
        "plt.title('Plot of Rolling Mean 5 of the 1000 samples')\n",
        "\n",
        "#distribution of means of 20 numbers from 1000 samples:\n",
        "ax = fig.add_subplot(2,2,4)\n",
        "ax.hist(sample_mean_20,bins=40,label='Mean of 20')\n",
        "ax.hist(sample_mean_30,bins=40,label='Mean of 30')\n",
        "plt.title('Plot of Rolling Mean 20 and 30 of the 1000 samples')\n",
        "ax.legend()\n",
        "plt.show()\n",
        "\n",
        "plt.show()\n",
        "\n"
      ],
      "execution_count": null,
      "outputs": [
        {
          "output_type": "display_data",
          "data": {
            "image/png": "[encoded data removed]",
            "text/plain": [
              "<Figure size 720x720 with 4 Axes>"
            ]
          },
          "metadata": {
            "needs_background": "light"
          }
        },
        {
          "output_type": "display_data",
          "data": {
            "image/png": "[encoded data removed]",
            "text/plain": [
              "<Figure size 720x720 with 4 Axes>"
            ]
          },
          "metadata": {
            "needs_background": "light"
          }
        }
      ]
    },
    {
      "cell_type": "code",
      "metadata": {
        "id": "a9hRSzZ09tSf"
      },
      "source": [
        "#standard deviation for complete population"
      ],
      "execution_count": null,
      "outputs": []
    },
    {
      "cell_type": "code",
      "metadata": {
        "colab": {
          "base_uri": "https://localhost:8080/"
        },
        "id": "g-nYW3U_-KXI",
        "outputId": "e23bdccb-42af-4804-d4f9-dca39699c766"
      },
      "source": [
        "#Calculating a rolling mean:\n",
        "print('Total Population STD : ',loans_income.x.std())\n",
        "print('Total Population Mean : ',loans_income.x.mean())\n",
        "print('Total Population Median : ',np.median(loans_income.x))\n",
        "print('Total Population Standard Error:',stats.sem(loans_income.x, ddof=1)) #degree of freedom"
      ],
      "execution_count": null,
      "outputs": [
        {
          "output_type": "stream",
          "name": "stdout",
          "text": [
            "Total Population STD :  32872.03536985002\n",
            "Total Population Mean :  68760.51844\n",
            "Total Population Median :  62000.0\n",
            "Total Population Standard Error: 147.00821129152527\n"
          ]
        }
      ]
    },
    {
      "cell_type": "code",
      "metadata": {
        "id": "-FeeiC47-7TI"
      },
      "source": [
        "bootstrap_1000 = np.random.choice(loans_income.x,size=1000,replace=True)\n",
        "bootstrap_10000 = np.random.choice(loans_income.x,size=10000,replace=True)\n",
        "bootstrap_20000 = np.random.choice(loans_income.x,size=20000,replace=True)"
      ],
      "execution_count": null,
      "outputs": []
    },
    {
      "cell_type": "code",
      "metadata": {
        "colab": {
          "base_uri": "https://localhost:8080/"
        },
        "id": "lg2r7iAI_Av0",
        "outputId": "7915d15f-5526-4371-8c74-5622fe7745d1"
      },
      "source": [
        "bootstrap_1000.shape"
      ],
      "execution_count": null,
      "outputs": [
        {
          "output_type": "execute_result",
          "data": {
            "text/plain": [
              "(1000,)"
            ]
          },
          "metadata": {},
          "execution_count": 36
        }
      ]
    },
    {
      "cell_type": "code",
      "metadata": {
        "colab": {
          "base_uri": "https://localhost:8080/"
        },
        "id": "jnDBCZpz_ExH",
        "outputId": "8cea8e67-9703-450f-a036-4ec4542af176"
      },
      "source": [
        "bootstrap_10000.shape"
      ],
      "execution_count": null,
      "outputs": [
        {
          "output_type": "execute_result",
          "data": {
            "text/plain": [
              "(10000,)"
            ]
          },
          "metadata": {},
          "execution_count": 37
        }
      ]
    },
    {
      "cell_type": "code",
      "metadata": {
        "colab": {
          "base_uri": "https://localhost:8080/"
        },
        "id": "GBCLLHuH_IMo",
        "outputId": "9820a7ce-45c8-46e4-b03c-11a84d8a88eb"
      },
      "source": [
        "bootstrap_20000.shape"
      ],
      "execution_count": null,
      "outputs": [
        {
          "output_type": "execute_result",
          "data": {
            "text/plain": [
              "(20000,)"
            ]
          },
          "metadata": {},
          "execution_count": 38
        }
      ]
    },
    {
      "cell_type": "code",
      "metadata": {
        "colab": {
          "base_uri": "https://localhost:8080/"
        },
        "id": "X-3QYIgg_Pa-",
        "outputId": "434ac7d5-2a6c-4818-e770-7c43b9c95209"
      },
      "source": [
        "bootstrap_1000.dtype"
      ],
      "execution_count": null,
      "outputs": [
        {
          "output_type": "execute_result",
          "data": {
            "text/plain": [
              "dtype('int64')"
            ]
          },
          "metadata": {},
          "execution_count": 39
        }
      ]
    },
    {
      "cell_type": "code",
      "metadata": {
        "colab": {
          "base_uri": "https://localhost:8080/"
        },
        "id": "YyNP33Sa_T2v",
        "outputId": "964cf4ee-3473-4acc-8dd9-cc9e80313e7e"
      },
      "source": [
        "#without shape you get value\n",
        "bootstrap_1000"
      ],
      "execution_count": null,
      "outputs": [
        {
          "output_type": "execute_result",
          "data": {
            "text/plain": [
              "array([150000, 150000,  41000,  95000,  87000, 140000,  36000,  70000,\n",
              "        52000, 140000,  66356,  30000,  60000,  61000,  81840, 120000,\n",
              "        42000,  75000, 109600,  60000,  63100,  39000,  80000, 100000,\n",
              "        42000, 115104,  40000,  91900,  90000,  80000,  58549,  30000,\n",
              "        72000,  49566,  75000,  95000, 124000,  15000, 115000, 110000,\n",
              "        65000,  70000, 104000,  67000,  60000,  75000,  99000, 125000,\n",
              "        75000,  70000,  92000,  35000, 102000,  90000, 140000,  43000,\n",
              "       150000,  41688,  54000,  35000,  60000,  60000,  60000,  31000,\n",
              "       169000,  25000,  49740,  42367,  45000,  20792,  45000,  40000,\n",
              "        80500,  35000,  21000,  65000, 195000,  66300, 144000,  45000,\n",
              "        60000, 102000,  48556,  98000,  68000, 115000, 160000,  86000,\n",
              "        30000,  70000,  42000, 140000,  83480,  72500, 131000,  30000,\n",
              "       120000,  95000, 120000,  62300,  47000,  70000,  60000,  74500,\n",
              "       130000,  72000,  60000,  62000,  28000,  54000,  59000,  47245,\n",
              "       120000,  45000,  48470, 105000, 105000,  50000, 160000,  54000,\n",
              "        35000,  45000,  45000,  30368,  85000,  70000,  45000,  43000,\n",
              "        48000,  60000,  65000,  50820,  70000,  52000,  70000,  47000,\n",
              "       110000,  45500,  53500,  71000,  49000,  73000,  85000,  67044,\n",
              "       115000,  50000,  75600,  48000, 100000,  71000, 111000,  68000,\n",
              "        90000, 100000,  75000,  50000,  86000,  40000,  87110,  55000,\n",
              "        48000,  75000,  34000,  65000,  95000,  29000,  72000, 120000,\n",
              "        55000,  80000,  30226,  37600,  96000,  35000,  73000,  75000,\n",
              "        50000, 110000,  33000,  67000,  65000,  38500,  31200,  57000,\n",
              "        30000, 103500,  60000,  36000, 112000,  68500, 100000,  43000,\n",
              "       120000,  39000,  40000,  60000, 100000, 110000,  25000,  32000,\n",
              "        30000,  85000,  80000,  71000,  55200,  24000,  65000,  74500,\n",
              "        30000,  40000,  60000,  82000,  30000,  55000,  71500,  29000,\n",
              "        37000,  35000,  57930, 100000, 125000,  42000,  34000,  55000,\n",
              "       137000,  52000,  31200,  51996, 104000,  25800,  49000, 107000,\n",
              "        80000,  41000,  28800,  40000,  25000,  73000,  40000,  46500,\n",
              "        67000,  44320,  30000,  50000,  85000,  89000,  68000,  58000,\n",
              "        55000, 100000,  50000, 105000,  64800,  50000,  74800,  44851,\n",
              "       114000,  60000,  82000,  50000,  88000,  45000, 160000,  71000,\n",
              "        76000,  80000, 128000,  70000,  42000,  55000,  83000,  54600,\n",
              "        47694,  80000, 100000,  15024, 130000,  46000,  58000,  50000,\n",
              "        80000,  68000,  48880, 150000, 106000,  80000,  78000,  29500,\n",
              "        60000, 125000,  65000, 101000, 113000,  37490, 180000,  54600,\n",
              "        21600,  69000, 100000,  45000, 103000,  72000,  72000,  55000,\n",
              "        55000,  98000,  98000,  37000,  41000,  75000,  80000,  57000,\n",
              "        75000,  43118, 110000,  50000,   6900,  60000,  40000,  40000,\n",
              "        79000,  87115,  70000,  56000,  52000,  65000, 123000, 102000,\n",
              "        45000,  70000,  65000,  53000,  75000,  36000,  95000,  60000,\n",
              "        91000,  13200,  87000,  30000,  46500,  65000, 100000,  56000,\n",
              "        90000, 107004,  75000,  45000,  61000,  90168,  80000,  80000,\n",
              "        40000,  47424,  28000,  86000,  55000,  57000,  30000,  48000,\n",
              "        72000,  85000,  97000,  70000,  52000, 130000,  32000,  56756,\n",
              "       110000,  61054,  43600,  53000,  50000,  60000,  36000,  32000,\n",
              "        40000,  65000,  75000,  30028,  52500,  48000, 100000,  35000,\n",
              "        85000,  73000, 195250,  54000,  30000,  30000,  87000,  95000,\n",
              "        98000,  25000, 100000,  40560, 160000, 170004,  60000,  40000,\n",
              "        54574,  85000,  60000,  60000,  69400, 120000, 102000, 100000,\n",
              "        70000,  35000,  74000, 132000,  45000,  72000,  28800, 144700,\n",
              "        90000,  27000, 100000,  38000,  52000, 170000,  61000,  70000,\n",
              "        36000,  64000,  44000,  18000,  50000,  40000,  85000,  50000,\n",
              "        68500, 100000, 122000,  75000, 115000, 102000,  55000,  20000,\n",
              "        60000,  47000,  85225,  85000,  87000,  46000,  45630,  55000,\n",
              "        30000,  47245, 132000,  37000, 105000,  80000,  45000, 136000,\n",
              "        53039,  95000,  52000,  50000,  32281,  60000,  42000,  62500,\n",
              "        50000,  60000, 103000, 150000,  90000, 105000,  49600,  63999,\n",
              "        67075, 117100,  65000,  67356,  45000, 100000,  65000,  85000,\n",
              "        29000,  42000,  35000,  70000,  50000,  85000,  47500, 109000,\n",
              "        58000,  25200,  87000,  18412,  35000,  65000,  57750,  43000,\n",
              "        84000,  56000,  22000,  70000,  36000,  40000,  62000,  42000,\n",
              "        80000,  45000,  48360,  84554,  50000,  32000,  53840,  72000,\n",
              "        39000,  43000,  73900,  75000, 130000,  72000,  54000,  50000,\n",
              "        21000,  95000,  87000,  65000,  42000,  55000,  75000,  35277,\n",
              "        47400,  52000,  85000,  45409,  28000,  85000, 125000, 100000,\n",
              "        45000, 112000, 160000,  23000, 124000, 101320,  85000,  30000,\n",
              "       110000,  75000,  48000,  65000, 150000,  60000,  50000,  60000,\n",
              "        54000,  40000,  56000,  63000,  16272,  16300, 140000,  36200,\n",
              "        65000,  46758,  61000,  83000, 166000,  70000,  80000,  50000,\n",
              "        82000,  35000,  80000,  65000,  70000, 102000,  40000,  65000,\n",
              "        85000,  38000,  46000,  62000,  25000,  92000,  31200,  82000,\n",
              "        63000,  52500, 100500,  42000,  60000, 125000,  92000,  85000,\n",
              "        48000,  75000,  82000, 110000, 150000,  42000,  64080,  54000,\n",
              "       120000,  90000,  46000,  42000,  80000,  46500, 125000,  50000,\n",
              "        70000,  70000,  70000,  60000,  33800,  40000,  42000,  60000,\n",
              "       119000,  87500,  46000,  46000,  63000,  79000,  45552,  75000,\n",
              "       180000,  87000,  44000,  24290, 110000,  28000,  74000,  70000,\n",
              "        55000,  79000, 130000, 105000,  31000,  20700,  65000,  82000,\n",
              "        22000,  50000,  50000,  40000,  45000,  75000,  91000,  52000,\n",
              "        75000,  53000,  51204, 116000,  36000,  75000,  39970, 120000,\n",
              "        69539, 100000, 183000,  77000,  46000,  54586, 180000,  55000,\n",
              "        82500,  52000, 120000,  50000, 107800, 105000,  40000,  40000,\n",
              "        24000,  60000, 106000,  29000, 144500, 118000, 175000,  34800,\n",
              "       120000,  60000,  53643,  40000,  72000, 135000,  98000,  13000,\n",
              "       146085,  37000,  80000,  72000, 150000,  48442,  80000, 125000,\n",
              "       146000,  90000,  93450,  60000,  18000, 132000,  30000,  42000,\n",
              "        47800,  75000,  50760,  73000,  70688,  50000,  42000,  70000,\n",
              "        70000,  58000,  82000,  81000,  70000,  35000, 145000,  65000,\n",
              "       106000,  22092,  35000,  29600, 168000,  50000,  28000,  32000,\n",
              "        33000,  85000,  30000, 115000,  60000,  97000,  41000,  40000,\n",
              "        62000,  35000, 173750,  68000,  98000,  47600,  45000,  80000,\n",
              "        95000,  83000,  65000,  84000,  19000,  28000,  56000,  26000,\n",
              "        82000,  77000,  82000,  90000,  60000,  60000,  78000,  54000,\n",
              "        85891,  49500,  34800,  92000,  42000,  62349,  69000,  60000,\n",
              "        70000,  80000,  70000, 180000,  32000,  75000,  77300, 115000,\n",
              "        50206,  87500,  15000,  35000,  58000,  58000, 150000,  98000,\n",
              "        75000, 153000,  42000,  75000, 185000,  61235,  98800,  51000,\n",
              "        72000,  65000,  48000,  75000,  40000,  25000, 174000,  37000,\n",
              "        58000,  70000,  43000, 130000,  42500,  50000, 134151,  35000,\n",
              "       197000,  50180,  35000,  40000,  51642,  51094,  56000,  40000,\n",
              "        52127,  41000,  27985, 111500,  50000,  62000,  40000,  50000,\n",
              "        36500,  80000,  34000,  40000,  60000,  65000,  85000,  45000,\n",
              "        80000,  80000,  87500,  50000,  58006,  44544,  60000,  50000,\n",
              "       120000,  65000,  40000,  68000,  75000, 100000,  21000,  26668,\n",
              "        98750, 115000,  45000,  42000,  44004,  85000,  70000,  36000,\n",
              "        72000,  62000,  80000,  31900, 140000,  77000,  51310,  65000,\n",
              "        76000,  90000,  15000,  67500,  78000,  76000, 100000,  37000,\n",
              "       110000,  40000,  73122,  47500,  32000, 116000,  40400,  50000,\n",
              "        70000, 115000, 130000,  25000,  25000,  56100,  42000,  10428,\n",
              "        40000,  24000,  60400,  48000,  37000, 120000,  52000,  58000,\n",
              "       153539,  70000,  65000,  76200,  60000,  80000,  70000,  95000,\n",
              "        52500,  70000,  68000,  71500, 100000,  53000,  53000,  33500,\n",
              "        22000,  74000,  57000,  30678, 105000,  42000,  72000,  59200,\n",
              "       103000,  55000,  63000,  70000,  50000,  50000,  88892, 110000,\n",
              "        80000,  36000,  85000,  34000, 135000,  49067,  48000,  17000,\n",
              "       140000, 139000,  36000,  75000,  36000, 131500,  49000,  33000,\n",
              "       150000, 100656,  36888, 150000,  50000, 146000,  46000,  20000,\n",
              "        65000,  55000,  51000,  49000,  61000, 130000,  12240,  77000,\n",
              "        53500,  34000,  19000,  68604,  42500,  75000,  18000,  41000,\n",
              "        54000,  30072, 135000,  95000,  80000, 112000,  41004,  90000,\n",
              "        40866,  37000,  83004, 160000, 100000,  32000, 150000,  50000,\n",
              "        24996, 178000,  75000,  95000,  87900,  99000,  31000,  44000,\n",
              "        35000,  52000,  43680,  45000, 103000,  96000,  35000,  35000])"
            ]
          },
          "metadata": {},
          "execution_count": 40
        }
      ]
    },
    {
      "cell_type": "code",
      "metadata": {
        "colab": {
          "base_uri": "https://localhost:8080/"
        },
        "id": "UWU3miNv-ela",
        "outputId": "2597ba8b-6500-463c-fbd4-6c5dafe54ad5"
      },
      "source": [
        "#bootstrap method for drawing sample\n",
        "\n",
        "bootstrap_1000 = np.random.choice(loans_income.x,size=1000,replace=True)\n",
        "bootstrap_10000 = np.random.choice(loans_income.x,size=10000,replace=True)\n",
        "bootstrap_20000 = np.random.choice(loans_income.x,size=20000,replace=True)\n",
        "arr_bootstraps = [bootstrap_1000,bootstrap_10000,bootstrap_20000]\n",
        "arr_bootstraps"
      ],
      "execution_count": null,
      "outputs": [
        {
          "output_type": "execute_result",
          "data": {
            "text/plain": [
              "[array([ 80000,  24000,  90000,  26880,  33500,  81400,  24000, 140000,\n",
              "         92000,  45000,  65000,  90000,  76000,  36000,  85000,  25000,\n",
              "         33000,  51000,  40000, 140000,  50000,  56000,  50000,  89000,\n",
              "        175000, 125600,  55000,  65000, 100000,  60000,  80000,  21000,\n",
              "         54960,  47000,  60000,  37440, 125000,  48000,  55000,  80000,\n",
              "         80000,  60000,  10428,  64000,  40000,  30000,  72000, 167000,\n",
              "         32000,  68000,  78000,  47000,  40560,  30000,  42000,  50000,\n",
              "         25000, 130000,  53250,  64000,  70000,  33000,  34700,  70000,\n",
              "         63000, 156000, 102000,  82000,  40000,  75000,  35000,  52000,\n",
              "         81000,  40000,  45000, 110000,  55000,  37000, 153000,  30000,\n",
              "         98000,  97000,  50000,  85000,  56160, 140000,  94000,  80000,\n",
              "         95000,  70000, 100000,  57000,  42996,  73000,  68000,  25000,\n",
              "         50000,  65000,  34000,  51300,  86188,  45000,  52000,  38000,\n",
              "         32090,  91475,  24000,  98077,  68000,  70000,  67000,  80000,\n",
              "         67000,  55000,  50000,  95000,  65000,  41000,  35000,  74200,\n",
              "         72000,  90000,  51000, 140000,  66000, 110000,  40000,  93000,\n",
              "         85000,  78000,  82000,  39354,  45000, 155000,  30000,  38000,\n",
              "         52000,  55000,  50000,  70000,  34000,  80000, 175000,  55000,\n",
              "        132110,  50000,  53940, 145000,  32000,  50077,  30000,  65000,\n",
              "         48000,  68000,  70000, 110000,  50000,  52000,  24000,  85800,\n",
              "         50000,  50000,  47000,  48000,  18000,  58000,  54000,  90000,\n",
              "        118971,  68000,  98000,  62400, 175000,  38000, 140000,  28200,\n",
              "         28700, 145000,  50000,  59000,  39168,  90100,  54000,  28000,\n",
              "         27000,  80863, 122400,  45000, 136000,  91844,  42000,  75000,\n",
              "         90000,  90000,  65000,  38000,  42000,  47000,  65000,  40000,\n",
              "         77000,  55000,  55500,  60000,  48000,  70000, 125000,  87000,\n",
              "         55868,  69000,  30000,  67000,  80100, 155000,  40000,  75000,\n",
              "         37000, 109464,  92000,  82000,  64000,  40000,  65000, 106000,\n",
              "         45000,  28000,  30000, 110000,  50000,  58500,  50000,  88500,\n",
              "         94000,  22200,  60000, 104000, 139000,  35000, 126000,  90000,\n",
              "         50000,  56864,  60200,  71000,  32000,  84000,  59850, 180000,\n",
              "         79000,  60000, 104500,  84000,  33000, 103106,  68000,  28000,\n",
              "         40000,  52000,  78000,  71000,  46000,  60000, 120000,  82000,\n",
              "         60000,  62000,  80000, 120000,  45000,  40000,  72996, 170000,\n",
              "         85000,  91000,  50000, 186000,  43000,  49067,  52000, 115000,\n",
              "        184000, 103000,  39000,  20000,  75000,  48500,  15000,  43000,\n",
              "         42000,  32000,  47000,  83000,  85000, 112000,  35000,  42000,\n",
              "         72000, 103000,  70000,  85000, 104000,  40000,  34000, 155000,\n",
              "        114000,  88580,  33000,  45000,  43000,  73433,  85000, 120000,\n",
              "         65000,  51000,  41000,  50000, 119000,  81000,  79000,  21994,\n",
              "         50000,  75000,  60000,  68000,  59000,  25000,  78000,  67000,\n",
              "         60000,  56000,  45000,  68350,  30000, 167000, 108000,  65000,\n",
              "         50000, 150000,  40000,  98000,  86000,  45000, 140000, 101000,\n",
              "         75900,  68000,  75000,  38160,  98000, 145000,  80000,  65000,\n",
              "         85000,  45000,  58000,  51400, 100000,  71500,  68000,  80000,\n",
              "        110000,  21000,  50000,  80000, 150000,  85000, 100000,  62000,\n",
              "         83000, 100000,  75000, 106046,  90000,  71000,  40000,  35000,\n",
              "        150000,  80000, 115000,  38000,  55000,  44215,  55000,  85000,\n",
              "         85000,  52000,  80000,  58000,  24556,  62000,  42000,  82000,\n",
              "         85000, 100000,  58212,  50000,  80000,  55668,  70000,  65000,\n",
              "         52000, 120000,  93000, 122278, 150000,  60000,  35000,  61220,\n",
              "         40000, 120000,  55000,  56053,  29000, 184000,  30000,  35000,\n",
              "         27168,  45000,  55000,  70000,  50000,  67846,  65000,  43596,\n",
              "         24000,  60000,  60000,  35000,  60000,  72000,  73000,  50000,\n",
              "         71508,  83000,  60000,  90000,  80607, 137700,  72000,  76000,\n",
              "         44000,  55000,  63440,  66000,  19200,  13000,  41820,  85000,\n",
              "         40000,  40000, 110000, 105000,  25000,  53000,  98000, 110000,\n",
              "         75000,  70000,  84000,  50000,  41600,  60000,  43200,  93500,\n",
              "         80000,  26136,  77000,  98450,  85000,  49000,  52000,  51000,\n",
              "         25000,  50000,  30000, 100000,  95000,  47000,  50000,  80000,\n",
              "         85000, 106000,  41587,  40000,  41000,  78000,  91000,  80000,\n",
              "         30000,  60204,  42000,  55000,  54000,  75000,  50000,  60000,\n",
              "         60000,  70000, 100000,  41308,  57000,  48000,  65000,  93000,\n",
              "         36000,  47000,  80000,  58000,  44000,  76000,  70000,  70000,\n",
              "         90000,  50800,  35000,  66000, 190000,  64000,  60000,  50400,\n",
              "         82000,  66000,  27800,  65000,  40000,  58000,  62349,  40000,\n",
              "         67920,  60000,  95000, 100000, 120000,  45336,  50000,  27000,\n",
              "         23608,  55920,  30000,  64869,  12731,  36000,  80000,  60000,\n",
              "         61200, 144000,  90000,  18744,  96000,  40000, 150000,  54000,\n",
              "         88900,  69564,  63000, 108000, 113000,  85000,  42000,  38000,\n",
              "         33700, 118000, 110000,  73000, 125000,  56628,  57500,  90000,\n",
              "         15599,  69500,  38000, 130000,  50000,  80000,  31600,  87000,\n",
              "         77100,  46080, 195000,  38000, 100000,  56000,  30000,  70000,\n",
              "        175000,  33000,  40000,  58000, 175000,  70000,  70000,  30000,\n",
              "         78000,  82000, 107004,  45000,  89000,  55000,  76000,  56000,\n",
              "         46000,  61100, 114800,  65000,  68000,  54600, 120000, 110000,\n",
              "         45000,  31000,  43987,  68000,  72000, 102561,  95000, 110000,\n",
              "        135000,  85000,  78000,  52000,  63000,  90000,  49000,  65000,\n",
              "        115000,  74467,  51000,  38000,  50000,  50000, 145000,  40000,\n",
              "         72000,  60000,  91000, 101000,  61000,  42000,  69000,  35500,\n",
              "         88518,  47840, 100000, 152000,  60000,  92000,  65000,  43000,\n",
              "         81000, 112000,  50000,  32000,  80000,  78000,  92500,  57400,\n",
              "         31200,  94000,  85000,  95000,  25000,  92000,  75000,  60000,\n",
              "         68000, 135000,  38000, 120000,  36000,  39000,  96000,  60000,\n",
              "        100000,  60000,  36000,  94000,  94279,  70000,  90000,  39000,\n",
              "         24000,  35000, 105000,  32000,  50000,  50000, 135000,  60000,\n",
              "         68000,  65000,  36000, 115000, 153000,  54000,  27200,  35000,\n",
              "         23000,  68000,  80000,  60000,  30000, 140000,  77022,  40000,\n",
              "        136400, 130000,  59527,  90000,  78000,  52000,  75000,  60000,\n",
              "         20800,  97000,  14760,  55500,  74000,  55000,  90000,  98000,\n",
              "         80000,  55000,  45000,  67500,  40000,  95000,  37000,  78000,\n",
              "         71000,  43000,  26880,  61000,  87000,  96000, 105000,  42000,\n",
              "         60000,  75000,  25000,  84000, 165000,  44310,  21000, 140000,\n",
              "         68000, 100800,  50000,  26880,  30960,  38000, 155000, 184000,\n",
              "         64000,  65000, 130000,  53000,  48781,  19128,  72000,  40000,\n",
              "         26000,  70000,  96000,  85000, 120000,  95000,  70000,  54500,\n",
              "         30000,  25000,  55000,  36500,  88000, 140000,  90000,  48000,\n",
              "         55000,  29500,  65000,  50000, 148000,  42000,  91000,  45000,\n",
              "        140000,  41000,  60000,  51604,  45000, 182000,  88000,  94000,\n",
              "         35000, 112000,  39500,  35000,  24000,  51000,  72000,  60000,\n",
              "         34000,  89000,  70400,  54000,  52000,  54000,  50000,  58000,\n",
              "         45000,  60000,  62000,  35000,  60000, 140000,  80000,  70000,\n",
              "         62000, 176000,  60000,  65000,  49000, 125000, 150000,  40000,\n",
              "         68500,  86400,  57000,  40000,  85000, 165000,  65000,  55000,\n",
              "        117000,  64000,  60500,  65000,  25000, 120000, 115000,  60000,\n",
              "         65000,  80000, 125000,  51420,  30000, 108000,  43000,  57000,\n",
              "         57000,  38000,  43800,  44116,  80000,  65000,  41000,  80000,\n",
              "         60000,  47400,  50000,  52000,  67000, 108000,  48775,  17108,\n",
              "         85000,  60000,  52000,  60000,  91000,  50000,  28800,  76500,\n",
              "         78000,  56000, 106000,  73000,  90000,  42000,  70000,  98000,\n",
              "         55000,  35000,  55000,  78000, 125000,  95600,  60000,  35000,\n",
              "        140500,  25068,  89000, 103000,  40000,  60000,  18000,  40000,\n",
              "         71000,  65000,  60000,  70000,  75000,  42000,  20000, 125000,\n",
              "         75000,  75000,  35000,  42000,  55000,  34000,  50000,  22000,\n",
              "         67675,  95000,  54000,  76450,  67880,  57540,  75000,  62000,\n",
              "         50000,  85000,  34000, 150000,  76500,  75000,  95000,  25800,\n",
              "         55000, 100000,  33000, 100000,  45000,  97500,  69000,  92000,\n",
              "         30000,  49000,  82000,  80000,  45000, 123000,  96000,  75000,\n",
              "         40000,  47000,  42000,  75000,  56010,  26880,  26500,  81000,\n",
              "         67600,  85000,  63000,  62500, 100000, 110000,  38000,  30000,\n",
              "         90000,  95000,  67000,  62000,  55000,  30072,  87000,  80000,\n",
              "         70000,  83000,  55000,  21208,  72500,  45000,  75000,  60000,\n",
              "        100000,  45000,  92500,  48000,  36000,  79131,  65000,  32800,\n",
              "        105000,  56000, 110000,  40000,  69500,  73000, 125000,  76000,\n",
              "         60000,  41820,  85000,  30000, 122000, 106000,  22850,  92000]),\n",
              " array([ 55000, 120000,  41017, ..., 140000,  22680,  50000]),\n",
              " array([115000,  70000,  22000, ...,  67000,  73000,  92000])]"
            ]
          },
          "metadata": {},
          "execution_count": 41
        }
      ]
    },
    {
      "cell_type": "code",
      "metadata": {
        "colab": {
          "base_uri": "https://localhost:8080/"
        },
        "id": "2TkII71w_qDS",
        "outputId": "373398e7-f65b-45ac-9ea5-5e6400ba38bf"
      },
      "source": [
        "\n",
        "len(arr_bootstraps)"
      ],
      "execution_count": null,
      "outputs": [
        {
          "output_type": "execute_result",
          "data": {
            "text/plain": [
              "3"
            ]
          },
          "metadata": {},
          "execution_count": 42
        }
      ]
    },
    {
      "cell_type": "code",
      "metadata": {
        "colab": {
          "base_uri": "https://localhost:8080/"
        },
        "id": "c7RqWqsqAEIp",
        "outputId": "5f9425b1-158c-43cc-e704-5d0313a6dd76"
      },
      "source": [
        "#Calculating a rolling mean:\n",
        "for i in range(len(arr_bootstraps)):\n",
        "    print('Bootstrap Stats for {} examples \\n'.format(len(arr_bootstraps[i])))\n",
        "    print('------------------------------------------------------------------------------\\n')\n",
        "    print('Bootstrap STD : ',np.std(arr_bootstraps[i],ddof=1))\n",
        "    print('Bootstrap Mean : ',np.mean(arr_bootstraps[i]))\n",
        "    print('Bootstrap Median: ',np.median(arr_bootstraps[i]))\n",
        "    print('Boostrap Bias, ',loans_income.x.mean() - np.mean(arr_bootstraps[i],axis=0))\n",
        "    print('Standard Error:',stats.sem(arr_bootstraps[i], ddof=1))\n",
        "    print('\\n------------------------------------------------------------------------------\\n')"
      ],
      "execution_count": null,
      "outputs": [
        {
          "output_type": "stream",
          "name": "stdout",
          "text": [
            "Bootstrap Stats for 1000 examples \n",
            "\n",
            "------------------------------------------------------------------------------\n",
            "\n",
            "Bootstrap STD :  33086.98544894198\n",
            "Bootstrap Mean :  69390.54\n",
            "Bootstrap Median:  64000.0\n",
            "Boostrap Bias,  -630.0215599999938\n",
            "Standard Error: 1046.3023492750547\n",
            "\n",
            "------------------------------------------------------------------------------\n",
            "\n",
            "Bootstrap Stats for 10000 examples \n",
            "\n",
            "------------------------------------------------------------------------------\n",
            "\n",
            "Bootstrap STD :  33640.54486637427\n",
            "Bootstrap Mean :  69450.8495\n",
            "Bootstrap Median:  62000.0\n",
            "Boostrap Bias,  -690.3310599999968\n",
            "Standard Error: 336.40544866374273\n",
            "\n",
            "------------------------------------------------------------------------------\n",
            "\n",
            "Bootstrap Stats for 20000 examples \n",
            "\n",
            "------------------------------------------------------------------------------\n",
            "\n",
            "Bootstrap STD :  32972.018136420855\n",
            "Bootstrap Mean :  68875.07605\n",
            "Bootstrap Median:  62000.0\n",
            "Boostrap Bias,  -114.55761000000348\n",
            "Standard Error: 233.14737613669016\n",
            "\n",
            "------------------------------------------------------------------------------\n",
            "\n"
          ]
        }
      ]
    },
    {
      "cell_type": "code",
      "metadata": {
        "id": "QC-xNJ9LAtA5"
      },
      "source": [
        "# 3 mean ka average is my population\n",
        "#Confidence interval->is a confidence level that your value falls under this"
      ],
      "execution_count": null,
      "outputs": []
    },
    {
      "cell_type": "code",
      "metadata": {
        "colab": {
          "base_uri": "https://localhost:8080/",
          "height": 295
        },
        "id": "L5sbTSm8BjIB",
        "outputId": "437bbe3c-ed20-459c-8bf2-4d7d8a1ab45d"
      },
      "source": [
        "stats.probplot(loans_income.x, dist=\"norm\", plot=pylab)\n",
        "pylab.show()"
      ],
      "execution_count": null,
      "outputs": [
        {
          "output_type": "display_data",
          "data": {
            "image/png": "[encoded data removed]",
            "text/plain": [
              "<Figure size 432x288 with 1 Axes>"
            ]
          },
          "metadata": {
            "needs_background": "light"
          }
        }
      ]
    },
    {
      "cell_type": "code",
      "metadata": {
        "id": "WpUJZ2tzD_Fw"
      },
      "source": [
        "#when my data is not in normal form ,so I use loc and scale "
      ],
      "execution_count": null,
      "outputs": []
    },
    {
      "cell_type": "code",
      "metadata": {
        "colab": {
          "base_uri": "https://localhost:8080/",
          "height": 295
        },
        "id": "Y7UQ_C9XDVhl",
        "outputId": "57258acb-72f5-4754-e687-76c5ca2a1421"
      },
      "source": [
        "measurements = np.random.normal(loc = 20, scale = 5, size=100)    #maximum chances  extreme values->joh line pai nhi aa rahe (outliers) ->you can not include outliers\n",
        "stats.probplot(measurements, dist=\"norm\", plot=pylab)          #now I can omit outlier use data for sampling\n",
        "pylab.show()"
      ],
      "execution_count": null,
      "outputs": [
        {
          "output_type": "display_data",
          "data": {
            "image/png": "[encoded data removed]",
            "text/plain": [
              "<Figure size 432x288 with 1 Axes>"
            ]
          },
          "metadata": {
            "needs_background": "light"
          }
        }
      ]
    },
    {
      "cell_type": "code",
      "metadata": {
        "id": "ccKt4XbUENGs"
      },
      "source": [
        "#once you check ur data is in normal distribution you can ise it"
      ],
      "execution_count": null,
      "outputs": []
    },
    {
      "cell_type": "code",
      "metadata": {
        "colab": {
          "base_uri": "https://localhost:8080/",
          "height": 295
        },
        "id": "UysIG1r9Ey2k",
        "outputId": "56e86505-6e84-43d2-83e7-01e34bf55f3d"
      },
      "source": [
        "nflx = sp500_px.loc[:,'NFLX']  #THERE ARE SOME OUTLIERS AND MY DATA IS FOLLOWING NORMAL DISTRIBUTION\n",
        "stats.probplot(nflx, dist=\"norm\", plot=pylab)\n",
        "pylab.show()"
      ],
      "execution_count": null,
      "outputs": [
        {
          "output_type": "display_data",
          "data": {
            "image/png": "[encoded data removed]",
            "text/plain": [
              "<Figure size 432x288 with 1 Axes>"
            ]
          },
          "metadata": {
            "needs_background": "light"
          }
        }
      ]
    },
    {
      "cell_type": "code",
      "metadata": {
        "colab": {
          "base_uri": "https://localhost:8080/",
          "height": 295
        },
        "id": "Sh1PR-gkFdF4",
        "outputId": "2661c51b-4535-49e6-8426-bd831a07a3d3"
      },
      "source": [
        "nflx = sp500_px.loc[:,'NFLX']  #THERE ARE SOME OUTLIERS AND MY DATA IS FOLLOWING NORMAL DISTRIBUTION\n",
        "stats.probplot(nflx, dist=\"norm\", plot=pylab)\n",
        "pylab.show()\n"
      ],
      "execution_count": null,
      "outputs": [
        {
          "output_type": "display_data",
          "data": {
            "image/png": "[encoded data removed]",
            "text/plain": [
              "<Figure size 432x288 with 1 Axes>"
            ]
          },
          "metadata": {
            "needs_background": "light"
          }
        }
      ]
    },
    {
      "cell_type": "code",
      "metadata": {
        "colab": {
          "base_uri": "https://localhost:8080/",
          "height": 365
        },
        "id": "aCF6XkwsFp0P",
        "outputId": "c7ecdbfe-362b-4f91-feaf-782dc12da89f"
      },
      "source": [
        "treated_nflx = np.diff(np.log(nflx))\n",
        "stats.probplot(treated_nflx, dist=\"norm\", plot=pylab,fit=True)\n",
        "pylab.show()"
      ],
      "execution_count": null,
      "outputs": [
        {
          "output_type": "stream",
          "name": "stderr",
          "text": [
            "/usr/local/lib/python3.7/dist-packages/pandas/core/series.py:726: RuntimeWarning: divide by zero encountered in log\n",
            "  result = getattr(ufunc, method)(*inputs, **kwargs)\n",
            "/usr/local/lib/python3.7/dist-packages/numpy/lib/function_base.py:1280: RuntimeWarning: invalid value encountered in subtract\n",
            "  a = op(a[slice1], a[slice2])\n"
          ]
        },
        {
          "output_type": "display_data",
          "data": {
            "image/png": "[encoded data removed]",
            "text/plain": [
              "<Figure size 432x288 with 1 Axes>"
            ]
          },
          "metadata": {
            "needs_background": "light"
          }
        }
      ]
    }
  ]
}