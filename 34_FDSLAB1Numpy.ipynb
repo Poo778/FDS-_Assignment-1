{
  "nbformat": 4,
  "nbformat_minor": 0,
  "metadata": {
    "colab": {
      "name": "34_FDSLAB1Numpy.ipynb",
      "provenance": [],
      "collapsed_sections": [
        "naihOj1Vo69k"
      ]
    },
    "kernelspec": {
      "name": "python3",
      "display_name": "Python 3"
    },
    "language_info": {
      "name": "python"
    }
  },
  "cells": [
    {
      "cell_type": "code",
      "metadata": {
        "colab": {
          "base_uri": "https://localhost:8080/"
        },
        "id": "RMtdYY4zoqpQ",
        "outputId": "01a649de-89db-4051-c29b-d73872ddab11"
      },
      "source": [
        "print(\"Hello\")\n"
      ],
      "execution_count": null,
      "outputs": [
        {
          "output_type": "stream",
          "text": [
            "Hello\n"
          ],
          "name": "stdout"
        }
      ]
    },
    {
      "cell_type": "markdown",
      "metadata": {
        "id": "OMxoEQO3YTea"
      },
      "source": [
        "# New Section"
      ]
    },
    {
      "cell_type": "code",
      "metadata": {
        "id": "HBa0hPU6Yjg0"
      },
      "source": [
        "from google.colab import drive\n",
        "drive.mount('/content/drive')"
      ],
      "execution_count": null,
      "outputs": []
    },
    {
      "cell_type": "code",
      "metadata": {
        "colab": {
          "base_uri": "https://localhost:8080/"
        },
        "id": "G2Gr-m1MwF4B",
        "outputId": "e59ace52-62a5-4284-82e3-b610796c908b"
      },
      "source": [
        "a=2\n",
        "a\n"
      ],
      "execution_count": null,
      "outputs": [
        {
          "output_type": "execute_result",
          "data": {
            "text/plain": [
              "2"
            ]
          },
          "metadata": {},
          "execution_count": 7
        }
      ]
    },
    {
      "cell_type": "code",
      "metadata": {
        "colab": {
          "base_uri": "https://localhost:8080/"
        },
        "id": "Oy0izq6rwt9e",
        "outputId": "06e6a024-fc32-49fd-9088-0cde600f0361"
      },
      "source": [
        "a"
      ],
      "execution_count": null,
      "outputs": [
        {
          "output_type": "execute_result",
          "data": {
            "text/plain": [
              "2"
            ]
          },
          "metadata": {},
          "execution_count": 9
        }
      ]
    },
    {
      "cell_type": "code",
      "metadata": {
        "colab": {
          "base_uri": "https://localhost:8080/"
        },
        "id": "TLU3hW6vyXR3",
        "outputId": "4e2f027a-f8be-4dad-eaf9-6e6e3eeb51fc"
      },
      "source": [
        "a=2\n",
        "b=3\n",
        "a\n",
        "b\n"
      ],
      "execution_count": null,
      "outputs": [
        {
          "output_type": "execute_result",
          "data": {
            "text/plain": [
              "3"
            ]
          },
          "metadata": {},
          "execution_count": 12
        }
      ]
    },
    {
      "cell_type": "code",
      "metadata": {
        "id": "jz4_i8pqykXp"
      },
      "source": [
        ""
      ],
      "execution_count": null,
      "outputs": []
    },
    {
      "cell_type": "code",
      "metadata": {
        "colab": {
          "base_uri": "https://localhost:8080/"
        },
        "id": "7v7q9Nsvyaew",
        "outputId": "a4a21ad7-7177-4154-999a-f3a5974ffe6f"
      },
      "source": [
        "print(str(a)\n",
        ")"
      ],
      "execution_count": null,
      "outputs": [
        {
          "output_type": "stream",
          "text": [
            "2\n"
          ],
          "name": "stdout"
        }
      ]
    },
    {
      "cell_type": "code",
      "metadata": {
        "colab": {
          "base_uri": "https://localhost:8080/"
        },
        "id": "z4Z3n6iCygNh",
        "outputId": "288ecd51-d24e-4b91-801c-c6d11727af37"
      },
      "source": [
        "type(a)\n"
      ],
      "execution_count": null,
      "outputs": [
        {
          "output_type": "execute_result",
          "data": {
            "text/plain": [
              "int"
            ]
          },
          "metadata": {},
          "execution_count": 13
        }
      ]
    },
    {
      "cell_type": "code",
      "metadata": {
        "id": "Bc65LCQSylhK"
      },
      "source": [
        "s=\"RJ College\""
      ],
      "execution_count": null,
      "outputs": []
    },
    {
      "cell_type": "code",
      "metadata": {
        "colab": {
          "base_uri": "https://localhost:8080/"
        },
        "id": "16TeKzUqy32t",
        "outputId": "d086a46d-ae16-434d-950f-03843873b421"
      },
      "source": [
        "type(s)"
      ],
      "execution_count": null,
      "outputs": [
        {
          "output_type": "execute_result",
          "data": {
            "text/plain": [
              "str"
            ]
          },
          "metadata": {},
          "execution_count": 16
        }
      ]
    },
    {
      "cell_type": "markdown",
      "metadata": {
        "id": "Zj8tHviBta-X"
      },
      "source": [
        "\n",
        "**nump li**\n",
        "\n"
      ]
    },
    {
      "cell_type": "markdown",
      "metadata": {
        "id": "eXyEnAG7tJx_"
      },
      "source": [
        "nump library"
      ]
    },
    {
      "cell_type": "code",
      "metadata": {
        "id": "9EJQzAcoquvB",
        "colab": {
          "base_uri": "https://localhost:8080/"
        },
        "outputId": "1cc1b154-c648-4743-f2d7-36d48c478d00"
      },
      "source": [
        "ls\n"
      ],
      "execution_count": null,
      "outputs": [
        {
          "output_type": "stream",
          "name": "stdout",
          "text": [
            "\u001b[0m\u001b[01;34msample_data\u001b[0m/\n"
          ]
        }
      ]
    },
    {
      "cell_type": "code",
      "metadata": {
        "colab": {
          "base_uri": "https://localhost:8080/"
        },
        "id": "1t0sM5_bZPpg",
        "outputId": "fe920881-c22a-4545-8c12-e8208f3f6bb5"
      },
      "source": [
        "!ls sample_data"
      ],
      "execution_count": null,
      "outputs": [
        {
          "output_type": "stream",
          "name": "stdout",
          "text": [
            "anscombe.json\t\t      mnist_test.csv\n",
            "california_housing_test.csv   mnist_train_small.csv\n",
            "california_housing_train.csv  README.md\n"
          ]
        }
      ]
    },
    {
      "cell_type": "code",
      "metadata": {
        "id": "AlaHWd1nZned"
      },
      "source": [
        ""
      ],
      "execution_count": null,
      "outputs": []
    },
    {
      "cell_type": "code",
      "metadata": {
        "id": "SxnUoHibayFp"
      },
      "source": [
        ""
      ],
      "execution_count": null,
      "outputs": []
    },
    {
      "cell_type": "markdown",
      "metadata": {
        "id": "BP5bzn1aa-_W"
      },
      "source": [
        "$y=x^2$\n",
        "y"
      ]
    },
    {
      "cell_type": "markdown",
      "metadata": {
        "id": "LDQ3C7tGbcf2"
      },
      "source": [
        ""
      ]
    },
    {
      "cell_type": "code",
      "metadata": {
        "id": "KLv2rabybXIL"
      },
      "source": [
        "a=10\n"
      ],
      "execution_count": null,
      "outputs": []
    },
    {
      "cell_type": "code",
      "metadata": {
        "colab": {
          "base_uri": "https://localhost:8080/"
        },
        "id": "ln5k4DI3bg2Z",
        "outputId": "77564acf-240a-437d-ab27-1bc0b2247b67"
      },
      "source": [
        "a"
      ],
      "execution_count": null,
      "outputs": [
        {
          "output_type": "execute_result",
          "data": {
            "text/plain": [
              "10"
            ]
          },
          "metadata": {},
          "execution_count": 9
        }
      ]
    },
    {
      "cell_type": "code",
      "metadata": {
        "colab": {
          "base_uri": "https://localhost:8080/"
        },
        "id": "KO41vzBpbjk8",
        "outputId": "48f40fd3-3f74-43dd-9ce8-b23abf3931d1"
      },
      "source": [
        "print(\"hello\")"
      ],
      "execution_count": null,
      "outputs": [
        {
          "output_type": "stream",
          "name": "stdout",
          "text": [
            "hello\n"
          ]
        }
      ]
    },
    {
      "cell_type": "code",
      "metadata": {
        "id": "5OyR08SQbn0c"
      },
      "source": [
        ""
      ],
      "execution_count": null,
      "outputs": []
    },
    {
      "cell_type": "markdown",
      "metadata": {
        "id": "_8kuwI4dbv_V"
      },
      "source": [
        "$y=x$2\n",
        "y"
      ]
    },
    {
      "cell_type": "markdown",
      "metadata": {
        "id": "LtU66LYlb2AG"
      },
      "source": [
        "$y=x^2$\n"
      ]
    },
    {
      "cell_type": "code",
      "metadata": {
        "id": "MPSdo4Bmb7oO"
      },
      "source": [
        ""
      ],
      "execution_count": null,
      "outputs": []
    },
    {
      "cell_type": "markdown",
      "metadata": {
        "id": "etz4ToH0dla1"
      },
      "source": [
        "https://numpy.org/doc/stable/user/whatisnumpy.html\n"
      ]
    },
    {
      "cell_type": "code",
      "metadata": {
        "colab": {
          "base_uri": "https://localhost:8080/"
        },
        "id": "vl15NR7Cbzx2",
        "outputId": "0d61ada4-a71d-4ff5-d056-b44c040bec9d"
      },
      "source": [
        "a=[1,2,3]\n",
        "type(a)"
      ],
      "execution_count": null,
      "outputs": [
        {
          "output_type": "execute_result",
          "data": {
            "text/plain": [
              "list"
            ]
          },
          "metadata": {},
          "execution_count": 11
        }
      ]
    },
    {
      "cell_type": "code",
      "metadata": {
        "colab": {
          "base_uri": "https://localhost:8080/"
        },
        "id": "Ywx4qNMFd2Kw",
        "outputId": "02ad6652-2857-4d43-ccd3-be6970c59324"
      },
      "source": [
        "b=[4,5,6]\n",
        "type(b)"
      ],
      "execution_count": null,
      "outputs": [
        {
          "output_type": "execute_result",
          "data": {
            "text/plain": [
              "list"
            ]
          },
          "metadata": {},
          "execution_count": 12
        }
      ]
    },
    {
      "cell_type": "code",
      "metadata": {
        "colab": {
          "base_uri": "https://localhost:8080/"
        },
        "id": "zelBoG_ZeCEG",
        "outputId": "e124f6cc-147c-4905-9bc5-97438bb09ca3"
      },
      "source": [
        "c=[]\n",
        "for i in range(len(a)):\n",
        "    c.append(a[i]+b[i])\n",
        "c\n"
      ],
      "execution_count": null,
      "outputs": [
        {
          "output_type": "execute_result",
          "data": {
            "text/plain": [
              "[5, 7, 9]"
            ]
          },
          "metadata": {},
          "execution_count": 16
        }
      ]
    },
    {
      "cell_type": "code",
      "metadata": {
        "id": "jzHRprM8eioa"
      },
      "source": [
        ""
      ],
      "execution_count": null,
      "outputs": []
    },
    {
      "cell_type": "code",
      "metadata": {
        "colab": {
          "base_uri": "https://localhost:8080/"
        },
        "id": "gpyXzk9Jee3O",
        "outputId": "c0949a4f-45f2-4307-c794-892279eecd20"
      },
      "source": [
        "import time\n",
        "print(\"sleeping\")\n",
        "time.sleep(30)\n",
        "print(\"done sleeping\")\n"
      ],
      "execution_count": null,
      "outputs": [
        {
          "output_type": "stream",
          "name": "stdout",
          "text": [
            "sleeping\n",
            "done sleeping\n"
          ]
        }
      ]
    },
    {
      "cell_type": "code",
      "metadata": {
        "id": "7XqRcUOPfhGY"
      },
      "source": [
        ""
      ],
      "execution_count": null,
      "outputs": []
    },
    {
      "cell_type": "code",
      "metadata": {
        "colab": {
          "base_uri": "https://localhost:8080/"
        },
        "id": "Vc3wJR81earp",
        "outputId": "77068623-62ce-4f56-8d70-4b42415fd609"
      },
      "source": [
        "!ls /bin"
      ],
      "execution_count": null,
      "outputs": [
        {
          "output_type": "stream",
          "name": "stdout",
          "text": [
            "bash\t       hostname       su\n",
            "bunzip2        journalctl     sync\n",
            "bzcat\t       kill\t      systemctl\n",
            "bzcmp\t       kmod\t      systemd\n",
            "bzdiff\t       less\t      systemd-ask-password\n",
            "bzegrep        lessecho       systemd-escape\n",
            "bzexe\t       lessfile       systemd-hwdb\n",
            "bzfgrep        lesskey\t      systemd-inhibit\n",
            "bzgrep\t       lesspipe       systemd-machine-id-setup\n",
            "bzip2\t       ln\t      systemd-notify\n",
            "bzip2recover   login\t      systemd-sysusers\n",
            "bzless\t       loginctl       systemd-tmpfiles\n",
            "bzmore\t       ls\t      systemd-tty-ask-password-agent\n",
            "cat\t       lsblk\t      tar\n",
            "chgrp\t       lsmod\t      tempfile\n",
            "chmod\t       mkdir\t      touch\n",
            "chown\t       mknod\t      true\n",
            "cp\t       mktemp\t      udevadm\n",
            "dash\t       more\t      ulockmgr_server\n",
            "date\t       mount\t      umount\n",
            "dd\t       mountpoint     uname\n",
            "df\t       mv\t      uncompress\n",
            "dir\t       networkctl     vdir\n",
            "dmesg\t       nisdomainname  wdctl\n",
            "dnsdomainname  pidof\t      which\n",
            "domainname     ps\t      ypdomainname\n",
            "echo\t       pwd\t      zcat\n",
            "egrep\t       rbash\t      zcmp\n",
            "false\t       readlink       zdiff\n",
            "fgrep\t       rm\t      zegrep\n",
            "findmnt        rmdir\t      zfgrep\n",
            "fuser\t       run-parts      zforce\n",
            "fusermount     sed\t      zgrep\n",
            "grep\t       sh\t      zless\n",
            "gunzip\t       sh.distrib     zmore\n",
            "gzexe\t       sleep\t      znew\n",
            "gzip\t       stty\n"
          ]
        }
      ]
    },
    {
      "cell_type": "code",
      "metadata": {
        "colab": {
          "base_uri": "https://localhost:8080/"
        },
        "id": "dxQWAItogD-a",
        "outputId": "234d6bd5-abc2-4766-c88d-1b6f47cd4af2"
      },
      "source": [
        "import numpy as np\n",
        "a=np.arange(15).reshape(3,5)\n",
        "a"
      ],
      "execution_count": null,
      "outputs": [
        {
          "output_type": "execute_result",
          "data": {
            "text/plain": [
              "array([[ 0,  1,  2,  3,  4],\n",
              "       [ 5,  6,  7,  8,  9],\n",
              "       [10, 11, 12, 13, 14]])"
            ]
          },
          "metadata": {},
          "execution_count": 21
        }
      ]
    },
    {
      "cell_type": "code",
      "metadata": {
        "colab": {
          "base_uri": "https://localhost:8080/"
        },
        "id": "Ulqwedp8ieLR",
        "outputId": "247a9dea-875d-4e24-a5ae-4193b879370f"
      },
      "source": [
        "a.ndim"
      ],
      "execution_count": null,
      "outputs": [
        {
          "output_type": "execute_result",
          "data": {
            "text/plain": [
              "2"
            ]
          },
          "metadata": {},
          "execution_count": 22
        }
      ]
    },
    {
      "cell_type": "code",
      "metadata": {
        "colab": {
          "base_uri": "https://localhost:8080/"
        },
        "id": "u9P01l0NimIX",
        "outputId": "a09ef9fe-0fef-4bf6-80fd-6e14f0292b86"
      },
      "source": [
        "a.dtype"
      ],
      "execution_count": null,
      "outputs": [
        {
          "output_type": "execute_result",
          "data": {
            "text/plain": [
              "dtype('int64')"
            ]
          },
          "metadata": {},
          "execution_count": 23
        }
      ]
    },
    {
      "cell_type": "code",
      "metadata": {
        "colab": {
          "base_uri": "https://localhost:8080/",
          "height": 35
        },
        "id": "RqV17_sjipq0",
        "outputId": "0438fd5e-81b8-4b50-b685-6ab7de83b782"
      },
      "source": [
        "a.dtype.name"
      ],
      "execution_count": null,
      "outputs": [
        {
          "output_type": "execute_result",
          "data": {
            "application/vnd.google.colaboratory.intrinsic+json": {
              "type": "string"
            },
            "text/plain": [
              "'int64'"
            ]
          },
          "metadata": {},
          "execution_count": 24
        }
      ]
    },
    {
      "cell_type": "code",
      "metadata": {
        "colab": {
          "base_uri": "https://localhost:8080/"
        },
        "id": "V862deGbiuJF",
        "outputId": "8eaeae1b-5431-4d49-818b-64bee4dadd4c"
      },
      "source": [
        "a.itemsize"
      ],
      "execution_count": null,
      "outputs": [
        {
          "output_type": "execute_result",
          "data": {
            "text/plain": [
              "8"
            ]
          },
          "metadata": {},
          "execution_count": 25
        }
      ]
    },
    {
      "cell_type": "code",
      "metadata": {
        "colab": {
          "base_uri": "https://localhost:8080/"
        },
        "id": "eEqFrQSpizEG",
        "outputId": "5932d93d-71c0-4ff5-d2bd-5f766e61b564"
      },
      "source": [
        "a.size"
      ],
      "execution_count": null,
      "outputs": [
        {
          "output_type": "execute_result",
          "data": {
            "text/plain": [
              "15"
            ]
          },
          "metadata": {},
          "execution_count": 26
        }
      ]
    },
    {
      "cell_type": "code",
      "metadata": {
        "colab": {
          "base_uri": "https://localhost:8080/"
        },
        "id": "Jw9WVku8i6bf",
        "outputId": "b72ab6bb-3d66-486b-c165-c947b6dd0c0a"
      },
      "source": [
        "type(a)"
      ],
      "execution_count": null,
      "outputs": [
        {
          "output_type": "execute_result",
          "data": {
            "text/plain": [
              "numpy.ndarray"
            ]
          },
          "metadata": {},
          "execution_count": 28
        }
      ]
    },
    {
      "cell_type": "code",
      "metadata": {
        "colab": {
          "base_uri": "https://localhost:8080/"
        },
        "id": "7QNMGxDdjAcF",
        "outputId": "e93f8e4f-2e5f-4da9-eff7-7d52372cde3c"
      },
      "source": [
        "b=np.array([12,13,15])\n",
        "b.dtype"
      ],
      "execution_count": null,
      "outputs": [
        {
          "output_type": "execute_result",
          "data": {
            "text/plain": [
              "dtype('int64')"
            ]
          },
          "metadata": {},
          "execution_count": 17
        }
      ]
    },
    {
      "cell_type": "code",
      "metadata": {
        "id": "Blc9acC3RPqA"
      },
      "source": [
        ""
      ],
      "execution_count": null,
      "outputs": []
    },
    {
      "cell_type": "code",
      "metadata": {
        "colab": {
          "base_uri": "https://localhost:8080/"
        },
        "id": "8vIn1o0hjOiW",
        "outputId": "f9569c23-c9aa-4574-cd57-ade24898ebf0"
      },
      "source": [
        "b=np.array([[12,13,15],[10,20,30]])\n",
        "b\n"
      ],
      "execution_count": null,
      "outputs": [
        {
          "output_type": "execute_result",
          "data": {
            "text/plain": [
              "array([[12, 13, 15],\n",
              "       [10, 20, 30]])"
            ]
          },
          "metadata": {},
          "execution_count": 31
        }
      ]
    },
    {
      "cell_type": "code",
      "metadata": {
        "colab": {
          "base_uri": "https://localhost:8080/"
        },
        "id": "9EryOet9jhHl",
        "outputId": "cfd5aa3a-b6bb-4b9a-f2a2-f4e45c760005"
      },
      "source": [
        "c=b.reshape(3,2)\n",
        "c"
      ],
      "execution_count": null,
      "outputs": [
        {
          "output_type": "execute_result",
          "data": {
            "text/plain": [
              "array([[12, 13],\n",
              "       [15, 10],\n",
              "       [20, 30]])"
            ]
          },
          "metadata": {},
          "execution_count": 32
        }
      ]
    },
    {
      "cell_type": "code",
      "metadata": {
        "colab": {
          "base_uri": "https://localhost:8080/"
        },
        "id": "r6K9HYyijvey",
        "outputId": "0ab2763e-35a9-4b7a-d732-b38a3820f244"
      },
      "source": [
        "a=np.array([['a','b','c','d','e'],['f','g','h','i','j']])\n",
        "a\n"
      ],
      "execution_count": null,
      "outputs": [
        {
          "output_type": "execute_result",
          "data": {
            "text/plain": [
              "array([['a', 'b', 'c', 'd', 'e'],\n",
              "       ['f', 'g', 'h', 'i', 'j']], dtype='<U1')"
            ]
          },
          "metadata": {},
          "execution_count": 33
        }
      ]
    },
    {
      "cell_type": "code",
      "metadata": {
        "colab": {
          "base_uri": "https://localhost:8080/"
        },
        "id": "rjPby66skGw6",
        "outputId": "43510201-de38-4243-cdc4-519d8dd4382e"
      },
      "source": [
        "a.dtype"
      ],
      "execution_count": null,
      "outputs": [
        {
          "output_type": "execute_result",
          "data": {
            "text/plain": [
              "dtype('<U1')"
            ]
          },
          "metadata": {},
          "execution_count": 34
        }
      ]
    },
    {
      "cell_type": "code",
      "metadata": {
        "colab": {
          "base_uri": "https://localhost:8080/"
        },
        "id": "A5jxmtrgk1YO",
        "outputId": "2f4310e2-d950-46d7-f0ee-8089da0b2912"
      },
      "source": [
        "a.itemsize"
      ],
      "execution_count": null,
      "outputs": [
        {
          "output_type": "execute_result",
          "data": {
            "text/plain": [
              "4"
            ]
          },
          "metadata": {},
          "execution_count": 35
        }
      ]
    },
    {
      "cell_type": "code",
      "metadata": {
        "colab": {
          "base_uri": "https://localhost:8080/"
        },
        "id": "lM0eZfRuk78c",
        "outputId": "58df0c3f-d478-482a-8448-d69512fb39d8"
      },
      "source": [
        "a.size\n"
      ],
      "execution_count": null,
      "outputs": [
        {
          "output_type": "execute_result",
          "data": {
            "text/plain": [
              "10"
            ]
          },
          "metadata": {},
          "execution_count": 36
        }
      ]
    },
    {
      "cell_type": "code",
      "metadata": {
        "colab": {
          "base_uri": "https://localhost:8080/"
        },
        "id": "wkPqkPzalP3Q",
        "outputId": "4748efaa-b9cf-4ea7-a2c6-2fa133812534"
      },
      "source": [
        "a.ndim\n"
      ],
      "execution_count": null,
      "outputs": [
        {
          "output_type": "execute_result",
          "data": {
            "text/plain": [
              "2"
            ]
          },
          "metadata": {},
          "execution_count": 37
        }
      ]
    },
    {
      "cell_type": "code",
      "metadata": {
        "colab": {
          "base_uri": "https://localhost:8080/"
        },
        "id": "wNeYlkG6lUwC",
        "outputId": "d72c0dda-50e6-4f91-8b83-350a70111e5f"
      },
      "source": [
        "type(a)"
      ],
      "execution_count": null,
      "outputs": [
        {
          "output_type": "execute_result",
          "data": {
            "text/plain": [
              "numpy.ndarray"
            ]
          },
          "metadata": {},
          "execution_count": 38
        }
      ]
    },
    {
      "cell_type": "code",
      "metadata": {
        "colab": {
          "base_uri": "https://localhost:8080/"
        },
        "id": "upgq0cLplZGa",
        "outputId": "24b90d63-eb27-4375-da1d-d136a5272e0b"
      },
      "source": [
        "a=np.array([1,2,3])\n",
        "a"
      ],
      "execution_count": null,
      "outputs": [
        {
          "output_type": "execute_result",
          "data": {
            "text/plain": [
              "array([1, 2, 3])"
            ]
          },
          "metadata": {},
          "execution_count": 39
        }
      ]
    },
    {
      "cell_type": "code",
      "metadata": {
        "colab": {
          "base_uri": "https://localhost:8080/"
        },
        "id": "CFKX5bfymotL",
        "outputId": "6c053257-f933-47fc-a0fa-d83065a46396"
      },
      "source": [
        "type(a)"
      ],
      "execution_count": null,
      "outputs": [
        {
          "output_type": "execute_result",
          "data": {
            "text/plain": [
              "numpy.ndarray"
            ]
          },
          "metadata": {},
          "execution_count": 40
        }
      ]
    },
    {
      "cell_type": "code",
      "metadata": {
        "colab": {
          "base_uri": "https://localhost:8080/"
        },
        "id": "fDwuSjXKmrDL",
        "outputId": "69775f7d-fa4a-47de-c779-61da4038baa6"
      },
      "source": [
        "a.ndim"
      ],
      "execution_count": null,
      "outputs": [
        {
          "output_type": "execute_result",
          "data": {
            "text/plain": [
              "1"
            ]
          },
          "metadata": {},
          "execution_count": 41
        }
      ]
    },
    {
      "cell_type": "code",
      "metadata": {
        "colab": {
          "base_uri": "https://localhost:8080/"
        },
        "id": "CzrTCdEamtRf",
        "outputId": "d3784a43-5a8a-4028-b93f-5a028c65c98e"
      },
      "source": [
        "a.itemsize"
      ],
      "execution_count": null,
      "outputs": [
        {
          "output_type": "execute_result",
          "data": {
            "text/plain": [
              "8"
            ]
          },
          "metadata": {},
          "execution_count": 42
        }
      ]
    },
    {
      "cell_type": "code",
      "metadata": {
        "colab": {
          "base_uri": "https://localhost:8080/"
        },
        "id": "VUzZUtYtm3Mt",
        "outputId": "b4aa865a-3e4e-4e16-e12a-a3c828031e78"
      },
      "source": [
        "a.size"
      ],
      "execution_count": null,
      "outputs": [
        {
          "output_type": "execute_result",
          "data": {
            "text/plain": [
              "3"
            ]
          },
          "metadata": {},
          "execution_count": 43
        }
      ]
    },
    {
      "cell_type": "code",
      "metadata": {
        "colab": {
          "base_uri": "https://localhost:8080/",
          "height": 35
        },
        "id": "bZ3HRrc3JORZ",
        "outputId": "c4e44a88-81cf-4ea5-f9d8-56e4f830d262"
      },
      "source": [
        "import numpy as np\n",
        "np.__version__\n"
      ],
      "execution_count": null,
      "outputs": [
        {
          "output_type": "execute_result",
          "data": {
            "application/vnd.google.colaboratory.intrinsic+json": {
              "type": "string"
            },
            "text/plain": [
              "'1.19.5'"
            ]
          },
          "metadata": {},
          "execution_count": 4
        }
      ]
    },
    {
      "cell_type": "code",
      "metadata": {
        "colab": {
          "base_uri": "https://localhost:8080/"
        },
        "id": "fzzzPBCiJfY2",
        "outputId": "4482ce24-71ac-4621-cc99-ac4fdfe16f09"
      },
      "source": [
        "list1=[]\n",
        "list1"
      ],
      "execution_count": null,
      "outputs": [
        {
          "output_type": "execute_result",
          "data": {
            "text/plain": [
              "[]"
            ]
          },
          "metadata": {},
          "execution_count": 5
        }
      ]
    },
    {
      "cell_type": "code",
      "metadata": {
        "colab": {
          "base_uri": "https://localhost:8080/"
        },
        "id": "Vq69rAkrJuF0",
        "outputId": "cfa2d5d6-93c9-47c8-ce16-9ac478e4dc43"
      },
      "source": [
        "type(list1)"
      ],
      "execution_count": null,
      "outputs": [
        {
          "output_type": "execute_result",
          "data": {
            "text/plain": [
              "list"
            ]
          },
          "metadata": {},
          "execution_count": 6
        }
      ]
    },
    {
      "cell_type": "markdown",
      "metadata": {
        "id": "rLT5hYcmpW8O"
      },
      "source": [
        ""
      ]
    },
    {
      "cell_type": "code",
      "metadata": {
        "colab": {
          "base_uri": "https://localhost:8080/"
        },
        "id": "v-loSiIMKIRb",
        "outputId": "bd71316d-b978-4958-a6c6-86a6799bd6a2"
      },
      "source": [
        "list2=list(range(10))\n",
        "list2"
      ],
      "execution_count": null,
      "outputs": [
        {
          "output_type": "execute_result",
          "data": {
            "text/plain": [
              "[0, 1, 2, 3, 4, 5, 6, 7, 8, 9]"
            ]
          },
          "metadata": {},
          "execution_count": 75
        }
      ]
    },
    {
      "cell_type": "code",
      "metadata": {
        "id": "kMbdL5ILpun0"
      },
      "source": [
        ""
      ],
      "execution_count": null,
      "outputs": []
    },
    {
      "cell_type": "code",
      "metadata": {
        "colab": {
          "base_uri": "https://localhost:8080/"
        },
        "id": "30r29Fq9KJ0y",
        "outputId": "0ab899f8-c63b-4c1a-fbfd-f72765a193b6"
      },
      "source": [
        "print(\"list in the form of string\")\n",
        "list3=[str(c)  for c in list2]\n",
        "list3"
      ],
      "execution_count": null,
      "outputs": [
        {
          "output_type": "stream",
          "name": "stdout",
          "text": [
            "list in the form of string\n"
          ]
        },
        {
          "output_type": "execute_result",
          "data": {
            "text/plain": [
              "['0', '1', '2', '3', '4', '5', '6', '7', '8', '9']"
            ]
          },
          "metadata": {},
          "execution_count": 9
        }
      ]
    },
    {
      "cell_type": "code",
      "metadata": {
        "colab": {
          "base_uri": "https://localhost:8080/"
        },
        "id": "T1OFBE4KKnOV",
        "outputId": "cfb44d3a-1328-486f-eb2b-fc99396dca96"
      },
      "source": [
        "print(\"***************************List of Different Data Types******************************\")\n",
        "list4=[1,1.2,'abc',True]\n",
        "list4"
      ],
      "execution_count": null,
      "outputs": [
        {
          "output_type": "stream",
          "name": "stdout",
          "text": [
            "***************************List of Different Data Types******************************\n"
          ]
        },
        {
          "output_type": "execute_result",
          "data": {
            "text/plain": [
              "[1, 1.2, 'abc', True]"
            ]
          },
          "metadata": {},
          "execution_count": 10
        }
      ]
    },
    {
      "cell_type": "code",
      "metadata": {
        "colab": {
          "base_uri": "https://localhost:8080/"
        },
        "id": "2QMYsPa9LHA9",
        "outputId": "f536a4d5-5d65-4917-8f98-aa567de5150b"
      },
      "source": [
        "#display datatype of each element\n",
        "[type(item) for item in list4]"
      ],
      "execution_count": null,
      "outputs": [
        {
          "output_type": "execute_result",
          "data": {
            "text/plain": [
              "[int, float, str, bool]"
            ]
          },
          "metadata": {},
          "execution_count": 11
        }
      ]
    },
    {
      "cell_type": "code",
      "metadata": {
        "colab": {
          "base_uri": "https://localhost:8080/"
        },
        "id": "m1PsavDXMDLJ",
        "outputId": "a915a047-8418-4503-e3c0-6cf8255f658b"
      },
      "source": [
        "[str(c)  for c in list2]"
      ],
      "execution_count": null,
      "outputs": [
        {
          "output_type": "execute_result",
          "data": {
            "text/plain": [
              "['0', '1', '2', '3', '4', '5', '6', '7', '8', '9']"
            ]
          },
          "metadata": {},
          "execution_count": 12
        }
      ]
    },
    {
      "cell_type": "code",
      "metadata": {
        "colab": {
          "base_uri": "https://localhost:8080/"
        },
        "id": "WTTd4HtpMcDm",
        "outputId": "058c6114-9141-48c4-ca66-c2157cbe7243"
      },
      "source": [
        "#Array in Python Vs List in Numpy\n",
        "#Python Array\n",
        "import array as ar\n",
        "L=list(range(10))\n",
        "A=ar.array('i',L)     # i indicates Integer\n",
        "A"
      ],
      "execution_count": null,
      "outputs": [
        {
          "output_type": "execute_result",
          "data": {
            "text/plain": [
              "array('i', [0, 1, 2, 3, 4, 5, 6, 7, 8, 9])"
            ]
          },
          "metadata": {},
          "execution_count": 13
        }
      ]
    },
    {
      "cell_type": "code",
      "metadata": {
        "colab": {
          "base_uri": "https://localhost:8080/"
        },
        "id": "cMYYE9WsQ_Aa",
        "outputId": "ba836137-ed96-468c-d62e-307d87edd4be"
      },
      "source": [
        "import numpy as  np     #numpy array\n",
        "b=np.array([10,20,30])\n",
        "b\n"
      ],
      "execution_count": null,
      "outputs": [
        {
          "output_type": "execute_result",
          "data": {
            "text/plain": [
              "array([10, 20, 30])"
            ]
          },
          "metadata": {},
          "execution_count": 20
        }
      ]
    },
    {
      "cell_type": "code",
      "metadata": {
        "colab": {
          "base_uri": "https://localhost:8080/"
        },
        "id": "JfjER7kORmbQ",
        "outputId": "0155d7e7-7239-4fd7-9c09-0d5cbf6bb4fa"
      },
      "source": [
        "b.dtype"
      ],
      "execution_count": null,
      "outputs": [
        {
          "output_type": "execute_result",
          "data": {
            "text/plain": [
              "dtype('int64')"
            ]
          },
          "metadata": {},
          "execution_count": 21
        }
      ]
    },
    {
      "cell_type": "code",
      "metadata": {
        "colab": {
          "base_uri": "https://localhost:8080/"
        },
        "id": "KYUsCe-ZRvxy",
        "outputId": "a9e11392-535b-49d4-b0e5-6a7464e29ded"
      },
      "source": [
        "b.ndim"
      ],
      "execution_count": null,
      "outputs": [
        {
          "output_type": "execute_result",
          "data": {
            "text/plain": [
              "1"
            ]
          },
          "metadata": {},
          "execution_count": 22
        }
      ]
    },
    {
      "cell_type": "code",
      "metadata": {
        "colab": {
          "base_uri": "https://localhost:8080/"
        },
        "id": "ejPc_dkhRyGK",
        "outputId": "12715848-e51f-4a63-d99a-b9144e7b7d92"
      },
      "source": [
        "b.itemsize"
      ],
      "execution_count": null,
      "outputs": [
        {
          "output_type": "execute_result",
          "data": {
            "text/plain": [
              "8"
            ]
          },
          "metadata": {},
          "execution_count": 23
        }
      ]
    },
    {
      "cell_type": "code",
      "metadata": {
        "colab": {
          "base_uri": "https://localhost:8080/"
        },
        "id": "rgx8AUe-R0Y9",
        "outputId": "be3647dd-5fb4-4235-9a11-8f2e4542e7a3"
      },
      "source": [
        "b.size"
      ],
      "execution_count": null,
      "outputs": [
        {
          "output_type": "execute_result",
          "data": {
            "text/plain": [
              "3"
            ]
          },
          "metadata": {},
          "execution_count": 24
        }
      ]
    },
    {
      "cell_type": "code",
      "metadata": {
        "colab": {
          "base_uri": "https://localhost:8080/"
        },
        "id": "jx_Jko5yR1kL",
        "outputId": "eaeeff84-f3fa-45b3-cbcc-02b9a3bd2f82"
      },
      "source": [
        "import numpy as  np     #automatic (Implicit)conversion\n",
        "c=np.array([10.2,20,30])\n",
        "c\n",
        "#Explicit Conversion\n",
        "d=np.array([1,2,3,4],dtype='float32')\n",
        "d\n",
        "\n",
        "\n"
      ],
      "execution_count": null,
      "outputs": [
        {
          "output_type": "execute_result",
          "data": {
            "text/plain": [
              "array([10.2, 20. , 30. ])"
            ]
          },
          "metadata": {},
          "execution_count": 1
        }
      ]
    },
    {
      "cell_type": "code",
      "metadata": {
        "colab": {
          "base_uri": "https://localhost:8080/"
        },
        "id": "v9oSkKoISyID",
        "outputId": "5ca7b6cd-5875-4cfc-a673-16e55107ea8b"
      },
      "source": [
        "#Nested List result in multidimensional arrray\n",
        "np.array([range(i,i+3) for i in [2,4,6]])"
      ],
      "execution_count": null,
      "outputs": [
        {
          "output_type": "execute_result",
          "data": {
            "text/plain": [
              "array([[2, 3, 4],\n",
              "       [4, 5, 6],\n",
              "       [6, 7, 8]])"
            ]
          },
          "metadata": {},
          "execution_count": 33
        }
      ]
    },
    {
      "cell_type": "code",
      "metadata": {
        "colab": {
          "base_uri": "https://localhost:8080/"
        },
        "id": "zTf2kIgSUIKa",
        "outputId": "fe18f4b1-39f6-4b89-d26a-2818711ae271"
      },
      "source": [
        "#For matrix conversion you need all element zero\n",
        "#create 10 length array filled with zero\n",
        "np.zeros(10,dtype=int)"
      ],
      "execution_count": null,
      "outputs": [
        {
          "output_type": "execute_result",
          "data": {
            "text/plain": [
              "array([0, 0, 0, 0, 0, 0, 0, 0, 0, 0])"
            ]
          },
          "metadata": {},
          "execution_count": 34
        }
      ]
    },
    {
      "cell_type": "code",
      "metadata": {
        "colab": {
          "base_uri": "https://localhost:8080/"
        },
        "id": "obymZlmuUmYH",
        "outputId": "a8f7d7eb-484b-4e9e-a159-288dc1e87ebd"
      },
      "source": [
        "#2 dimensional array of zero\n",
        "np.zeros((2,5),dtype=float)"
      ],
      "execution_count": null,
      "outputs": [
        {
          "output_type": "execute_result",
          "data": {
            "text/plain": [
              "array([[0., 0., 0., 0., 0.],\n",
              "       [0., 0., 0., 0., 0.]])"
            ]
          },
          "metadata": {},
          "execution_count": 36
        }
      ]
    },
    {
      "cell_type": "code",
      "metadata": {
        "colab": {
          "base_uri": "https://localhost:8080/"
        },
        "id": "_m5GBYSgVC5j",
        "outputId": "2ee18b01-1db9-4d1b-fb31-8bb3474bf0d3"
      },
      "source": [
        "#2 dimensional array of Ones\n",
        "np.ones((2,5),dtype=float)"
      ],
      "execution_count": null,
      "outputs": [
        {
          "output_type": "execute_result",
          "data": {
            "text/plain": [
              "array([[1., 1., 1., 1., 1.],\n",
              "       [1., 1., 1., 1., 1.]])"
            ]
          },
          "metadata": {},
          "execution_count": 37
        }
      ]
    },
    {
      "cell_type": "code",
      "metadata": {
        "colab": {
          "base_uri": "https://localhost:8080/"
        },
        "id": "lsa0jwmJVMpO",
        "outputId": "570708ed-f1c6-4f6f-9e9f-534e3ef6c0ae"
      },
      "source": [
        "#Createa 3x5 array filled with 3.0\n",
        "np.full((3,5),3.0)"
      ],
      "execution_count": null,
      "outputs": [
        {
          "output_type": "execute_result",
          "data": {
            "text/plain": [
              "array([[3., 3., 3., 3., 3.],\n",
              "       [3., 3., 3., 3., 3.],\n",
              "       [3., 3., 3., 3., 3.]])"
            ]
          },
          "metadata": {},
          "execution_count": 38
        }
      ]
    },
    {
      "cell_type": "code",
      "metadata": {
        "colab": {
          "base_uri": "https://localhost:8080/"
        },
        "id": "qm1DOA4sVeE5",
        "outputId": "78fefab8-7be1-4cbc-c25f-6ea0e53a343a"
      },
      "source": [
        "#filled a array with linear sequence with difference of 2\n",
        "np.arange(0,20,2)"
      ],
      "execution_count": null,
      "outputs": [
        {
          "output_type": "execute_result",
          "data": {
            "text/plain": [
              "array([ 0,  2,  4,  6,  8, 10, 12, 14, 16, 18])"
            ]
          },
          "metadata": {},
          "execution_count": 40
        }
      ]
    },
    {
      "cell_type": "code",
      "metadata": {
        "colab": {
          "base_uri": "https://localhost:8080/"
        },
        "id": "29POCvfjV9Sc",
        "outputId": "227972e0-4fa3-4c20-f259-d02076df231d"
      },
      "source": [
        "#with difference of 3\n",
        "np.arange(0,32,3)"
      ],
      "execution_count": null,
      "outputs": [
        {
          "output_type": "execute_result",
          "data": {
            "text/plain": [
              "array([ 0,  3,  6,  9, 12, 15, 18, 21, 24, 27, 30])"
            ]
          },
          "metadata": {},
          "execution_count": 43
        }
      ]
    },
    {
      "cell_type": "code",
      "metadata": {
        "colab": {
          "base_uri": "https://localhost:8080/"
        },
        "id": "zrgpGCCTWWXW",
        "outputId": "389410f8-1ea5-4e0f-8558-7169fc74b39a"
      },
      "source": [
        "#creation of array of evenly spaced values for the given range\n",
        "#create 4 values in the ranges of 0 to 2  , values  2/4= 0.5   ,so  values will be 0.0,0.5,1.0,1.5\n",
        "np.linspace(0,2,4)"
      ],
      "execution_count": null,
      "outputs": [
        {
          "output_type": "execute_result",
          "data": {
            "text/plain": [
              "array([0.        , 0.66666667, 1.33333333, 2.        ])"
            ]
          },
          "metadata": {},
          "execution_count": 44
        }
      ]
    },
    {
      "cell_type": "code",
      "metadata": {
        "colab": {
          "base_uri": "https://localhost:8080/"
        },
        "id": "bDuZUrV3XlQr",
        "outputId": "879dfa0a-52f2-447a-fdc4-0c51c6d3a04d"
      },
      "source": [
        "#Create array of random values between 0 and 1\n",
        "np.random.random((3,4))"
      ],
      "execution_count": null,
      "outputs": [
        {
          "output_type": "execute_result",
          "data": {
            "text/plain": [
              "array([[0.21052345, 0.91982642, 0.84279565, 0.31560533],\n",
              "       [0.94203681, 0.01863101, 0.16763466, 0.97166606],\n",
              "       [0.92269178, 0.07565191, 0.51392389, 0.99954677]])"
            ]
          },
          "metadata": {},
          "execution_count": 45
        }
      ]
    },
    {
      "cell_type": "code",
      "metadata": {
        "colab": {
          "base_uri": "https://localhost:8080/"
        },
        "id": "sskYRgpKYPdB",
        "outputId": "82cab9df-af00-4fe1-ea46-69018ba22165"
      },
      "source": [
        "#Create a 3x3 array of normally distributed random values\n",
        "#with mean=0 and SD=1  and (3,3) is dimension\n",
        "np.random.normal(0,1,(3,3))"
      ],
      "execution_count": null,
      "outputs": [
        {
          "output_type": "execute_result",
          "data": {
            "text/plain": [
              "array([[-1.49594416, -0.32805112, -1.29339201],\n",
              "       [ 2.41509197,  0.68269266, -0.87076041],\n",
              "       [ 0.11520028,  0.14670773,  0.70436471]])"
            ]
          },
          "metadata": {},
          "execution_count": 46
        }
      ]
    },
    {
      "cell_type": "code",
      "metadata": {
        "colab": {
          "base_uri": "https://localhost:8080/"
        },
        "id": "yy13J5bAY8XG",
        "outputId": "ce3ac2c4-2230-4657-cdd5-cac483f37eb9"
      },
      "source": [
        "\n",
        "#Create a 3x3 array of random integers in the interval [0,10]\n",
        "np.random.randint(0,10,(3,3)) \n",
        "#starting range,last range,dimension"
      ],
      "execution_count": null,
      "outputs": [
        {
          "output_type": "execute_result",
          "data": {
            "text/plain": [
              "array([[2, 0, 6],\n",
              "       [8, 9, 7],\n",
              "       [8, 7, 0]])"
            ]
          },
          "metadata": {},
          "execution_count": 47
        }
      ]
    },
    {
      "cell_type": "code",
      "metadata": {
        "colab": {
          "base_uri": "https://localhost:8080/"
        },
        "id": "WHeolixmWTyM",
        "outputId": "92061ba5-cba1-4abe-c369-77a7d902aeed"
      },
      "source": [
        "#Create 3x3 identity matrix\n",
        "np.eye(3)"
      ],
      "execution_count": null,
      "outputs": [
        {
          "output_type": "execute_result",
          "data": {
            "text/plain": [
              "array([[1., 0., 0.],\n",
              "       [0., 1., 0.],\n",
              "       [0., 0., 1.]])"
            ]
          },
          "metadata": {},
          "execution_count": 49
        }
      ]
    },
    {
      "cell_type": "code",
      "metadata": {
        "colab": {
          "base_uri": "https://localhost:8080/"
        },
        "id": "-vtLEYRYaDt6",
        "outputId": "9051e42d-4a94-4b6c-845a-589ac97c174d"
      },
      "source": [
        "#Create empty array\n",
        "np.empty(3)"
      ],
      "execution_count": null,
      "outputs": [
        {
          "output_type": "execute_result",
          "data": {
            "text/plain": [
              "array([1., 1., 1.])"
            ]
          },
          "metadata": {},
          "execution_count": 52
        }
      ]
    },
    {
      "cell_type": "code",
      "metadata": {
        "colab": {
          "base_uri": "https://localhost:8080/"
        },
        "id": "xEwr6EoraWNr",
        "outputId": "87f85292-bbe1-49ce-8178-73d53852f626"
      },
      "source": [
        "import numpy as np   #when we dont have data sets and it is used for probability distribution\n",
        "np.random.seed(30)\n",
        "x1=np.random.randint(50,size=6)\n",
        "x1\n"
      ],
      "execution_count": null,
      "outputs": [
        {
          "output_type": "execute_result",
          "data": {
            "text/plain": [
              "array([ 0, 17,  4, 27, 48,  0])"
            ]
          },
          "metadata": {},
          "execution_count": 57
        }
      ]
    },
    {
      "cell_type": "code",
      "metadata": {
        "colab": {
          "base_uri": "https://localhost:8080/"
        },
        "id": "kog_dhwHknoj",
        "outputId": "355687e3-8d14-446c-a7b4-0312ca6e6cde"
      },
      "source": [
        "#create 3 dimensional array seed=100 values can go to 300\n",
        "#whenever u have to create multidimensional array\n",
        "np.random.seed(100)\n",
        "x2=np.random.randint(200,size=(2,2))  #2  dimensional 2 rows 2 columns\n",
        "x2"
      ],
      "execution_count": null,
      "outputs": [
        {
          "output_type": "execute_result",
          "data": {
            "text/plain": [
              "array([[  8,  24],\n",
              "       [ 67, 103]])"
            ]
          },
          "metadata": {},
          "execution_count": 60
        }
      ]
    },
    {
      "cell_type": "code",
      "metadata": {
        "colab": {
          "base_uri": "https://localhost:8080/"
        },
        "id": "O0J_Gh2SmQLL",
        "outputId": "9d11776d-984a-488b-f262-b85bfdf870f8"
      },
      "source": [
        "#create 3 dimensional array seed=100 values can go to 300\n",
        "#whenever u have to create multidimensional array\n",
        "np.random.seed(100)\n",
        "x2=np.random.randint(200,size=(3,2,1))  #2  dimensional 2 rows 1 columns 3 sets we get\n",
        "x2"
      ],
      "execution_count": null,
      "outputs": [
        {
          "output_type": "execute_result",
          "data": {
            "text/plain": [
              "array([[[  8],\n",
              "        [ 24]],\n",
              "\n",
              "       [[ 67],\n",
              "        [103]],\n",
              "\n",
              "       [[ 87],\n",
              "        [ 79]],\n",
              "\n",
              "       [[176],\n",
              "        [138]],\n",
              "\n",
              "       [[ 94],\n",
              "        [180]]])"
            ]
          },
          "metadata": {},
          "execution_count": 63
        }
      ]
    },
    {
      "cell_type": "code",
      "metadata": {
        "colab": {
          "base_uri": "https://localhost:8080/"
        },
        "id": "gerkO6eOmpDe",
        "outputId": "bde0669a-a116-4337-9798-600cbf4ab1aa"
      },
      "source": [
        "#create 3 dimensional array seed=100 values can go to 300\n",
        "#whenever u have to create multidimensional array\n",
        "np.random.seed(100)\n",
        "x2=np.random.randint(200,size=(4,3,2,1))  #2  dimensional 2 rows 1 columns  3 sets 4 times\n",
        "x2"
      ],
      "execution_count": null,
      "outputs": [
        {
          "output_type": "execute_result",
          "data": {
            "text/plain": [
              "array([[[[  8],\n",
              "         [ 24]],\n",
              "\n",
              "        [[ 67],\n",
              "         [103]],\n",
              "\n",
              "        [[ 87],\n",
              "         [ 79]]],\n",
              "\n",
              "\n",
              "       [[[176],\n",
              "         [138]],\n",
              "\n",
              "        [[ 94],\n",
              "         [180]],\n",
              "\n",
              "        [[ 98],\n",
              "         [ 53]]],\n",
              "\n",
              "\n",
              "       [[[ 66],\n",
              "         [ 14]],\n",
              "\n",
              "        [[ 34],\n",
              "         [ 24]],\n",
              "\n",
              "        [[143],\n",
              "         [107]]],\n",
              "\n",
              "\n",
              "       [[[ 60],\n",
              "         [ 58]],\n",
              "\n",
              "        [[144],\n",
              "         [137]],\n",
              "\n",
              "        [[ 93],\n",
              "         [ 86]]]])"
            ]
          },
          "metadata": {},
          "execution_count": 64
        }
      ]
    },
    {
      "cell_type": "code",
      "metadata": {
        "colab": {
          "base_uri": "https://localhost:8080/"
        },
        "id": "kcyt2-ODm8CS",
        "outputId": "a4f2a688-170f-459c-cc08-673f23fc4c56"
      },
      "source": [
        "#create 3 dimensional array seed=100 values can go to 300\n",
        "#whenever u have to create multidimensional array\n",
        "np.random.seed(100)\n",
        "x2=np.random.randint(200,size=(5,4,3,2,1))  #2  dimensional 2 rows 1 columns  3 sets 4 times  5 sets\n",
        "x2"
      ],
      "execution_count": null,
      "outputs": [
        {
          "output_type": "execute_result",
          "data": {
            "text/plain": [
              "array([[[[[  8],\n",
              "          [ 24]],\n",
              "\n",
              "         [[ 67],\n",
              "          [103]],\n",
              "\n",
              "         [[ 87],\n",
              "          [ 79]]],\n",
              "\n",
              "\n",
              "        [[[176],\n",
              "          [138]],\n",
              "\n",
              "         [[ 94],\n",
              "          [180]],\n",
              "\n",
              "         [[ 98],\n",
              "          [ 53]]],\n",
              "\n",
              "\n",
              "        [[[ 66],\n",
              "          [ 14]],\n",
              "\n",
              "         [[ 34],\n",
              "          [ 24]],\n",
              "\n",
              "         [[143],\n",
              "          [107]]],\n",
              "\n",
              "\n",
              "        [[[ 60],\n",
              "          [ 58]],\n",
              "\n",
              "         [[144],\n",
              "          [137]],\n",
              "\n",
              "         [[ 93],\n",
              "          [ 86]]]],\n",
              "\n",
              "\n",
              "\n",
              "       [[[[130],\n",
              "          [155]],\n",
              "\n",
              "         [[108],\n",
              "          [132]],\n",
              "\n",
              "         [[159],\n",
              "          [129]]],\n",
              "\n",
              "\n",
              "        [[[141],\n",
              "          [100]],\n",
              "\n",
              "         [[  4],\n",
              "          [ 91]],\n",
              "\n",
              "         [[187],\n",
              "          [ 67]]],\n",
              "\n",
              "\n",
              "        [[[135],\n",
              "          [ 49]],\n",
              "\n",
              "         [[175],\n",
              "          [193]],\n",
              "\n",
              "         [[ 61],\n",
              "          [ 14]]],\n",
              "\n",
              "\n",
              "        [[[183],\n",
              "          [199]],\n",
              "\n",
              "         [[ 80],\n",
              "          [  2]],\n",
              "\n",
              "         [[121],\n",
              "          [105]]]],\n",
              "\n",
              "\n",
              "\n",
              "       [[[[147],\n",
              "          [ 63]],\n",
              "\n",
              "         [[181],\n",
              "          [ 27]],\n",
              "\n",
              "         [[ 56],\n",
              "          [113]]],\n",
              "\n",
              "\n",
              "        [[[158],\n",
              "          [176]],\n",
              "\n",
              "         [[ 47],\n",
              "          [167]],\n",
              "\n",
              "         [[109],\n",
              "          [ 38]]],\n",
              "\n",
              "\n",
              "        [[[172],\n",
              "          [ 18]],\n",
              "\n",
              "         [[192],\n",
              "          [184]],\n",
              "\n",
              "         [[162],\n",
              "          [181]]],\n",
              "\n",
              "\n",
              "        [[[ 17],\n",
              "          [ 72]],\n",
              "\n",
              "         [[ 13],\n",
              "          [106]],\n",
              "\n",
              "         [[ 30],\n",
              "          [ 17]]]],\n",
              "\n",
              "\n",
              "\n",
              "       [[[[ 53],\n",
              "          [ 68]],\n",
              "\n",
              "         [[178],\n",
              "          [ 91]],\n",
              "\n",
              "         [[181],\n",
              "          [ 78]]],\n",
              "\n",
              "\n",
              "        [[[  0],\n",
              "          [ 13]],\n",
              "\n",
              "         [[185],\n",
              "          [106]],\n",
              "\n",
              "         [[131],\n",
              "          [ 70]]],\n",
              "\n",
              "\n",
              "        [[[131],\n",
              "          [138]],\n",
              "\n",
              "         [[188],\n",
              "          [131]],\n",
              "\n",
              "         [[105],\n",
              "          [176]]],\n",
              "\n",
              "\n",
              "        [[[180],\n",
              "          [ 43]],\n",
              "\n",
              "         [[ 36],\n",
              "          [  5]],\n",
              "\n",
              "         [[ 71],\n",
              "          [ 38]]]],\n",
              "\n",
              "\n",
              "\n",
              "       [[[[ 94],\n",
              "          [170]],\n",
              "\n",
              "         [[ 84],\n",
              "          [ 95]],\n",
              "\n",
              "         [[114],\n",
              "          [119]]],\n",
              "\n",
              "\n",
              "        [[[ 76],\n",
              "          [ 33]],\n",
              "\n",
              "         [[ 58],\n",
              "          [102]],\n",
              "\n",
              "         [[170],\n",
              "          [150]]],\n",
              "\n",
              "\n",
              "        [[[  0],\n",
              "          [183]],\n",
              "\n",
              "         [[147],\n",
              "          [ 53]],\n",
              "\n",
              "         [[196],\n",
              "          [190]]],\n",
              "\n",
              "\n",
              "        [[[ 50],\n",
              "          [196]],\n",
              "\n",
              "         [[163],\n",
              "          [151]],\n",
              "\n",
              "         [[  9],\n",
              "          [176]]]]])"
            ]
          },
          "metadata": {},
          "execution_count": 65
        }
      ]
    },
    {
      "cell_type": "code",
      "metadata": {
        "colab": {
          "base_uri": "https://localhost:8080/"
        },
        "id": "ABstKYvlnHFl",
        "outputId": "b61dafec-2627-4b17-935c-f82104671ec7"
      },
      "source": [
        "x2.shape   #dimesion=5x4x3x2x1"
      ],
      "execution_count": null,
      "outputs": [
        {
          "output_type": "execute_result",
          "data": {
            "text/plain": [
              "(5, 4, 3, 2, 1)"
            ]
          },
          "metadata": {},
          "execution_count": 66
        }
      ]
    },
    {
      "cell_type": "code",
      "metadata": {
        "colab": {
          "base_uri": "https://localhost:8080/"
        },
        "id": "UvFp5O1boHiS",
        "outputId": "13350488-6407-4af1-f378-08963b41b19c"
      },
      "source": [
        "\n",
        "x2.ndim    #total=5 axis"
      ],
      "execution_count": null,
      "outputs": [
        {
          "output_type": "execute_result",
          "data": {
            "text/plain": [
              "5"
            ]
          },
          "metadata": {},
          "execution_count": 68
        }
      ]
    },
    {
      "cell_type": "code",
      "metadata": {
        "colab": {
          "base_uri": "https://localhost:8080/"
        },
        "id": "MqkagVYMoOjY",
        "outputId": "9ed52cc5-4ab8-485f-970b-c3f53bf1995c"
      },
      "source": [
        "x2.size"
      ],
      "execution_count": null,
      "outputs": [
        {
          "output_type": "execute_result",
          "data": {
            "text/plain": [
              "120"
            ]
          },
          "metadata": {},
          "execution_count": 69
        }
      ]
    },
    {
      "cell_type": "code",
      "metadata": {
        "colab": {
          "base_uri": "https://localhost:8080/"
        },
        "id": "fOvZXT4LodHl",
        "outputId": "1d2fab70-b9b6-4627-e43f-cce23bd77c58"
      },
      "source": [
        "#how many bytes used for storing 120\n",
        "x2.nbytes"
      ],
      "execution_count": null,
      "outputs": [
        {
          "output_type": "execute_result",
          "data": {
            "text/plain": [
              "960"
            ]
          },
          "metadata": {},
          "execution_count": 70
        }
      ]
    },
    {
      "cell_type": "code",
      "metadata": {
        "colab": {
          "base_uri": "https://localhost:8080/"
        },
        "id": "JfP-anYWopxf",
        "outputId": "552aec16-3efb-4bed-8059-3fc901a864ed"
      },
      "source": [
        "#how much memory required for storing single element of array\n",
        "x2.itemsize"
      ],
      "execution_count": null,
      "outputs": [
        {
          "output_type": "execute_result",
          "data": {
            "text/plain": [
              "8"
            ]
          },
          "metadata": {},
          "execution_count": 71
        }
      ]
    },
    {
      "cell_type": "code",
      "metadata": {
        "id": "9ad7hcuro2ck"
      },
      "source": [
        ""
      ],
      "execution_count": null,
      "outputs": []
    },
    {
      "cell_type": "code",
      "metadata": {
        "id": "0LiDpo4PoMLa"
      },
      "source": [
        ""
      ],
      "execution_count": null,
      "outputs": []
    },
    {
      "cell_type": "code",
      "metadata": {
        "id": "4rsfOJwvmkbd"
      },
      "source": [
        ""
      ],
      "execution_count": null,
      "outputs": []
    },
    {
      "cell_type": "code",
      "metadata": {
        "id": "ufoonH17mfaM"
      },
      "source": [
        ""
      ],
      "execution_count": null,
      "outputs": []
    },
    {
      "cell_type": "code",
      "metadata": {
        "id": "zF2Ex600mMly"
      },
      "source": [
        ""
      ],
      "execution_count": null,
      "outputs": []
    },
    {
      "cell_type": "code",
      "metadata": {
        "id": "JAizPPIDmKif"
      },
      "source": [
        ""
      ],
      "execution_count": null,
      "outputs": []
    },
    {
      "cell_type": "code",
      "metadata": {
        "id": "g-obyF9zaQOL"
      },
      "source": [
        ""
      ],
      "execution_count": null,
      "outputs": []
    },
    {
      "cell_type": "code",
      "metadata": {
        "id": "tp5SrsbkZ_jx"
      },
      "source": [
        ""
      ],
      "execution_count": null,
      "outputs": []
    },
    {
      "cell_type": "code",
      "metadata": {
        "id": "4rcMSyF5ZiJK"
      },
      "source": [
        ""
      ],
      "execution_count": null,
      "outputs": []
    },
    {
      "cell_type": "code",
      "metadata": {
        "id": "IRjYmbFrWSAD"
      },
      "source": [
        ""
      ],
      "execution_count": null,
      "outputs": []
    },
    {
      "cell_type": "code",
      "metadata": {
        "id": "3Qn1lcRxV6Gi"
      },
      "source": [
        ""
      ],
      "execution_count": null,
      "outputs": []
    },
    {
      "cell_type": "code",
      "metadata": {
        "id": "UVrRAZCTVA2H"
      },
      "source": [
        ""
      ],
      "execution_count": null,
      "outputs": []
    },
    {
      "cell_type": "code",
      "metadata": {
        "id": "08VMalVDUFIW"
      },
      "source": [
        ""
      ],
      "execution_count": null,
      "outputs": []
    },
    {
      "cell_type": "code",
      "metadata": {
        "id": "OUGywe9WUDsF"
      },
      "source": [
        ""
      ],
      "execution_count": null,
      "outputs": []
    },
    {
      "cell_type": "code",
      "metadata": {
        "id": "QvYldUuXSv1C"
      },
      "source": [
        ""
      ],
      "execution_count": null,
      "outputs": []
    },
    {
      "cell_type": "code",
      "metadata": {
        "id": "kEJR7tRtSszN"
      },
      "source": [
        ""
      ],
      "execution_count": null,
      "outputs": []
    },
    {
      "cell_type": "code",
      "metadata": {
        "id": "aFR-MozASnB7"
      },
      "source": [
        ""
      ],
      "execution_count": null,
      "outputs": []
    },
    {
      "cell_type": "code",
      "metadata": {
        "id": "It9VmGiVSOA7"
      },
      "source": [
        ""
      ],
      "execution_count": null,
      "outputs": []
    },
    {
      "cell_type": "code",
      "metadata": {
        "id": "UDIDAeaGRebw"
      },
      "source": [
        ""
      ],
      "execution_count": null,
      "outputs": []
    },
    {
      "cell_type": "code",
      "metadata": {
        "id": "X9tM_cT1JYX2"
      },
      "source": [
        ""
      ],
      "execution_count": null,
      "outputs": []
    },
    {
      "cell_type": "code",
      "metadata": {
        "id": "o7HPB_NcjYqG"
      },
      "source": [
        ""
      ],
      "execution_count": null,
      "outputs": []
    },
    {
      "cell_type": "code",
      "metadata": {
        "id": "wfzgEGGHi-rc"
      },
      "source": [
        ""
      ],
      "execution_count": null,
      "outputs": []
    },
    {
      "cell_type": "code",
      "metadata": {
        "id": "K9PQEvgmiZMi"
      },
      "source": [
        ""
      ],
      "execution_count": null,
      "outputs": []
    },
    {
      "cell_type": "code",
      "metadata": {
        "id": "T5js8oZViWHa"
      },
      "source": [
        ""
      ],
      "execution_count": null,
      "outputs": []
    },
    {
      "cell_type": "code",
      "metadata": {
        "id": "aV4BusjkbEeR"
      },
      "source": [
        ""
      ],
      "execution_count": null,
      "outputs": []
    },
    {
      "cell_type": "markdown",
      "metadata": {
        "id": "naihOj1Vo69k"
      },
      "source": [
        "# New Section"
      ]
    }
  ]
}